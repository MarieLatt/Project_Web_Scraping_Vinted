{
 "cells": [
  {
   "cell_type": "markdown",
   "metadata": {},
   "source": [
    "# import libraries"
   ]
  },
  {
   "cell_type": "code",
   "execution_count": 1,
   "metadata": {},
   "outputs": [],
   "source": [
    "import requests\n",
    "from bs4 import BeautifulSoup\n",
    "import pandas as pd\n",
    "import time\n",
    "import numpy as np\n",
    "import matplotlib.pyplot as plt\n",
    "%matplotlib inline"
   ]
  },
  {
   "cell_type": "markdown",
   "metadata": {},
   "source": [
    "# functions"
   ]
  },
  {
   "cell_type": "code",
   "execution_count": 2,
   "metadata": {},
   "outputs": [],
   "source": [
    "def status_check(url):\n",
    "    import requests\n",
    "    r=requests.get(url)\n",
    "    if r.status_code<300:\n",
    "        print(\"request was successful\")\n",
    "    elif r.status_code>=400 and r.status_code<500:\n",
    "        print('request failed because it is non-existant or forbidden')\n",
    "    else: print('blablabla')\n",
    "    return r"
   ]
  },
  {
   "cell_type": "code",
   "execution_count": 3,
   "metadata": {},
   "outputs": [],
   "source": [
    "def get_soup(url):\n",
    "    r=status_check(url)\n",
    "    soup = BeautifulSoup(r.content)\n",
    "    return soup"
   ]
  },
  {
   "cell_type": "markdown",
   "metadata": {},
   "source": [
    "- get all the values from the \"table\" (MARQUE ,TAILLE, ÉTAT, COULEUR, NOMBRE DE VUES , INTERESSEES)"
   ]
  },
  {
   "cell_type": "code",
   "execution_count": 4,
   "metadata": {},
   "outputs": [],
   "source": [
    "def get_table(soup):\n",
    "    if len(soup.select(\"div.details-list__item-title:contains('Marque')+div\"))!=0:\n",
    "        brand=soup.select(\"div.details-list__item-title:contains('Marque')+div\")[0].text.replace('\\n','')\n",
    "    else: \n",
    "        brand=''\n",
    "    if len(soup.select(\"div.details-list__item-title:contains('Taille')+div\"))!=0:\n",
    "        size=soup.select(\"div.details-list__item-title:contains('Taille')+div\")[0].text.replace('\\n','')\n",
    "    else:\n",
    "        size=''\n",
    "    if len(soup.select(\"div.details-list__item-title:contains('tat')+div\"))!=0:\n",
    "        cond=soup.select(\"div.details-list__item-title:contains('tat')+div\")[0].text.replace('\\n','')\n",
    "    else:\n",
    "        cond=''\n",
    "    if len(soup.select(\"div.details-list__item-title:contains('Couleur')+div\"))!=0:\n",
    "        colors=soup.select(\"div.details-list__item-title:contains('Couleur')+div\")[0].text.replace('\\n','')\n",
    "    else:\n",
    "        colors=''\n",
    "    if len(soup.select(\"div.details-list__item-title:contains('vu')+div\"))!=0:\n",
    "        views=soup.select(\"div.details-list__item-title:contains('vu')+div\")[0].text.replace('\\n','')\n",
    "    else:\n",
    "        views=''\n",
    "    if len(soup.select(\"div.details-list__item-title:contains('ress')+div\"))!=0:\n",
    "        interested=soup.select(\"div.details-list__item-title:contains('ress')+div\")[0].text.replace('\\n','')\n",
    "    else:\n",
    "        interested=''\n",
    "    lst_table=[brand, size, cond, colors, views, interested]\n",
    "    return lst_table"
   ]
  },
  {
   "cell_type": "markdown",
   "metadata": {},
   "source": [
    "- get the time when the article has been uploaded on vinted and the time the seller was last seen"
   ]
  },
  {
   "cell_type": "code",
   "execution_count": 5,
   "metadata": {},
   "outputs": [],
   "source": [
    "def get_time(soup):\n",
    "    lst_time=soup.find_all('time')\n",
    "    lst_time=[elem['title'] for elem in lst_time]\n",
    "    return lst_time"
   ]
  },
  {
   "cell_type": "markdown",
   "metadata": {},
   "source": [
    "- get the saling price"
   ]
  },
  {
   "cell_type": "code",
   "execution_count": 6,
   "metadata": {},
   "outputs": [],
   "source": [
    "def get_price(soup):\n",
    "    lst_price=soup.find_all('div',{'class':'c-text--heading c-text--left c-text'})\n",
    "    lst_price=[elem.text for elem in lst_price]\n",
    "    return lst_price"
   ]
  },
  {
   "cell_type": "markdown",
   "metadata": {},
   "source": [
    "- get the number of evaluations"
   ]
  },
  {
   "cell_type": "code",
   "execution_count": 7,
   "metadata": {},
   "outputs": [],
   "source": [
    "def get_eval(soup):\n",
    "    lst_eval=soup.select('div.c-rating__label>div')\n",
    "    lst_eval=[elem.text for elem in lst_eval]\n",
    "    return lst_eval\n"
   ]
  },
  {
   "cell_type": "markdown",
   "metadata": {},
   "source": [
    "- get the number of stars in evaluation"
   ]
  },
  {
   "cell_type": "code",
   "execution_count": 8,
   "metadata": {},
   "outputs": [],
   "source": [
    "def get_stars(soup):\n",
    "    full_stars=soup.select('div.c-rating__star.c-rating__star--full')\n",
    "    half_stars=soup.select('div.c-rating__star.c-rating__star--half-full')\n",
    "    return [len(full_stars)+len(half_stars)/2]"
   ]
  },
  {
   "cell_type": "markdown",
   "metadata": {},
   "source": [
    "- get the article title and description"
   ]
  },
  {
   "cell_type": "code",
   "execution_count": 9,
   "metadata": {},
   "outputs": [],
   "source": [
    "def get_info(soup):\n",
    "    import re\n",
    "    lst_info=soup.find_all(\"div\", {'class':'details-list details-list--info'})\n",
    "    test=lst_info[0].text.replace('\\n','')\n",
    "    content=re.findall('\"content\":{(.*?)}',test)\n",
    "    title=re.findall('\"title\":\"(.*?)\"',content[0])\n",
    "    description=re.findall('\"description\":\"(.*)?\"',content[0])\n",
    "    return [title[0],description[0]]"
   ]
  },
  {
   "cell_type": "markdown",
   "metadata": {},
   "source": [
    "- get the number of pictures"
   ]
  },
  {
   "cell_type": "code",
   "execution_count": 10,
   "metadata": {},
   "outputs": [],
   "source": [
    "def get_nb_images(soup):\n",
    "    lst_images=soup.select(\"figure.item-description\")\n",
    "    return [len(lst_images)]"
   ]
  },
  {
   "cell_type": "markdown",
   "metadata": {},
   "source": [
    "- get the list of urls of products"
   ]
  },
  {
   "cell_type": "code",
   "execution_count": 11,
   "metadata": {},
   "outputs": [],
   "source": [
    "def get_urls(url):\n",
    "    soup = get_soup(url)\n",
    "    lst=soup.select('a.media__image-wrapper')\n",
    "    lst_url=['https://www.vinted.fr'+elem['href']for elem in lst]\n",
    "    return lst_url"
   ]
  },
  {
   "cell_type": "markdown",
   "metadata": {},
   "source": [
    "- now we loop through all pages of product search to get the urls of each product and then loop through the list of urls to get the informations for each product"
   ]
  },
  {
   "cell_type": "code",
   "execution_count": null,
   "metadata": {
    "scrolled": false
   },
   "outputs": [],
   "source": [
    "i=1\n",
    "ll=[]\n",
    "url_pattern='https://www.vinted.fr/femmes/baskets?size_id[]=58&page={}&search_text=stan%20smith&color_id[]=12&status[]=2&status[]=1&status[]=6&brand_id[]=14'\n",
    "while True:\n",
    "    print('page:',i)\n",
    "    lst_urls = get_urls(url_pattern.format(i))\n",
    "    if lst_urls==[]:\n",
    "        break\n",
    "    i+=1\n",
    "    for url in lst_urls:\n",
    "        row = [url]\n",
    "        soup = get_soup(url)\n",
    "        row.extend(get_table(soup))\n",
    "        row.extend(get_time(soup))\n",
    "        row.extend(get_price(soup))\n",
    "        row.extend(get_eval(soup))\n",
    "        row.extend(get_stars(soup))\n",
    "        row.extend(get_info(soup))\n",
    "        row.extend(get_nb_images(soup))\n",
    "        ll.append(row)\n",
    "        time.sleep(0.5)"
   ]
  },
  {
   "cell_type": "code",
   "execution_count": 13,
   "metadata": {},
   "outputs": [],
   "source": [
    "df=pd.DataFrame(ll)"
   ]
  },
  {
   "cell_type": "code",
   "execution_count": 14,
   "metadata": {},
   "outputs": [
    {
     "data": {
      "text/html": [
       "<div>\n",
       "<style scoped>\n",
       "    .dataframe tbody tr th:only-of-type {\n",
       "        vertical-align: middle;\n",
       "    }\n",
       "\n",
       "    .dataframe tbody tr th {\n",
       "        vertical-align: top;\n",
       "    }\n",
       "\n",
       "    .dataframe thead th {\n",
       "        text-align: right;\n",
       "    }\n",
       "</style>\n",
       "<table border=\"1\" class=\"dataframe\">\n",
       "  <thead>\n",
       "    <tr style=\"text-align: right;\">\n",
       "      <th></th>\n",
       "      <th>0</th>\n",
       "      <th>1</th>\n",
       "      <th>2</th>\n",
       "      <th>3</th>\n",
       "      <th>4</th>\n",
       "      <th>5</th>\n",
       "      <th>6</th>\n",
       "      <th>7</th>\n",
       "      <th>8</th>\n",
       "      <th>9</th>\n",
       "      <th>10</th>\n",
       "      <th>11</th>\n",
       "      <th>12</th>\n",
       "      <th>13</th>\n",
       "      <th>14</th>\n",
       "    </tr>\n",
       "  </thead>\n",
       "  <tbody>\n",
       "    <tr>\n",
       "      <th>0</th>\n",
       "      <td>https://www.vinted.fr/femmes/baskets-baskets/3...</td>\n",
       "      <td>Adidas   Suivre</td>\n",
       "      <td>38</td>\n",
       "      <td>Neuf, avec étiquette</td>\n",
       "      <td>noir, blanc</td>\n",
       "      <td>42</td>\n",
       "      <td></td>\n",
       "      <td>16/01/2020 15:49</td>\n",
       "      <td>16/01/2020 15:44</td>\n",
       "      <td>179,00 €</td>\n",
       "      <td>10</td>\n",
       "      <td>5.0</td>\n",
       "      <td>Adidas Stan Smith Mickey Mouse - Taille 38 2/3</td>\n",
       "      <td>\\u2022jamais porté \\n\\u2022nouveau, toujours d...</td>\n",
       "      <td>6</td>\n",
       "    </tr>\n",
       "    <tr>\n",
       "      <th>1</th>\n",
       "      <td>https://www.vinted.fr/femmes/baskets-baskets/1...</td>\n",
       "      <td>Adidas   Suivre</td>\n",
       "      <td>38</td>\n",
       "      <td>Très bon état</td>\n",
       "      <td>noir, blanc</td>\n",
       "      <td>348</td>\n",
       "      <td>27 utilisateurs</td>\n",
       "      <td>15/11/2018 20:35</td>\n",
       "      <td>16/01/2020 16:34</td>\n",
       "      <td>60,00 €</td>\n",
       "      <td>7</td>\n",
       "      <td>5.0</td>\n",
       "      <td>Adidas Stan Smith</td>\n",
       "      <td>Adidas Stan Smith\\nExcellent état car porté un...</td>\n",
       "      <td>3</td>\n",
       "    </tr>\n",
       "    <tr>\n",
       "      <th>2</th>\n",
       "      <td>https://www.vinted.fr/femmes/chuck-taylor-conv...</td>\n",
       "      <td>Adidas   Suivre</td>\n",
       "      <td>38</td>\n",
       "      <td>Très bon état</td>\n",
       "      <td>blanc, marine</td>\n",
       "      <td>11</td>\n",
       "      <td></td>\n",
       "      <td>16/01/2020 16:24</td>\n",
       "      <td>16/01/2020 16:19</td>\n",
       "      <td>40,00 €</td>\n",
       "      <td>Pas encore d'évaluation</td>\n",
       "      <td>0.0</td>\n",
       "      <td>Basket adidas Stan Smith</td>\n",
       "      <td>Neuf 👍basket blanche et marine adidas Stan Smi...</td>\n",
       "      <td>3</td>\n",
       "    </tr>\n",
       "    <tr>\n",
       "      <th>3</th>\n",
       "      <td>https://www.vinted.fr/femmes/baskets-baskets/3...</td>\n",
       "      <td>Adidas   Suivre</td>\n",
       "      <td>38</td>\n",
       "      <td>Neuf</td>\n",
       "      <td>blanc, multicolore</td>\n",
       "      <td>8</td>\n",
       "      <td></td>\n",
       "      <td>16/01/2020 16:24</td>\n",
       "      <td>16/01/2020 15:31</td>\n",
       "      <td>50,00 €</td>\n",
       "      <td>114</td>\n",
       "      <td>5.0</td>\n",
       "      <td>Stan Smith</td>\n",
       "      <td>Neuves jamais portées</td>\n",
       "      <td>4</td>\n",
       "    </tr>\n",
       "    <tr>\n",
       "      <th>4</th>\n",
       "      <td>https://www.vinted.fr/femmes/baskets-baskets/3...</td>\n",
       "      <td>Adidas   Suivre</td>\n",
       "      <td>38</td>\n",
       "      <td>Neuf, avec étiquette</td>\n",
       "      <td>rose, blanc</td>\n",
       "      <td>607</td>\n",
       "      <td>15 utilisateurs</td>\n",
       "      <td>10/01/2020 11:28</td>\n",
       "      <td>16/01/2020 16:27</td>\n",
       "      <td>48,00 €</td>\n",
       "      <td>21</td>\n",
       "      <td>5.0</td>\n",
       "      <td>Chaussures Femmes</td>\n",
       "      <td>Paire de chaussures Adidas Stan Smith BZ0115 P...</td>\n",
       "      <td>5</td>\n",
       "    </tr>\n",
       "  </tbody>\n",
       "</table>\n",
       "</div>"
      ],
      "text/plain": [
       "                                                  0                1   \\\n",
       "0  https://www.vinted.fr/femmes/baskets-baskets/3...  Adidas   Suivre   \n",
       "1  https://www.vinted.fr/femmes/baskets-baskets/1...  Adidas   Suivre   \n",
       "2  https://www.vinted.fr/femmes/chuck-taylor-conv...  Adidas   Suivre   \n",
       "3  https://www.vinted.fr/femmes/baskets-baskets/3...  Adidas   Suivre   \n",
       "4  https://www.vinted.fr/femmes/baskets-baskets/3...  Adidas   Suivre   \n",
       "\n",
       "                                        2                     3   \\\n",
       "0                  38                       Neuf, avec étiquette   \n",
       "1                  38                              Très bon état   \n",
       "2                  38                              Très bon état   \n",
       "3                  38                                       Neuf   \n",
       "4                  38                       Neuf, avec étiquette   \n",
       "\n",
       "                   4    5                      6                 7   \\\n",
       "0         noir, blanc   42                         16/01/2020 15:49   \n",
       "1         noir, blanc  348      27 utilisateurs    15/11/2018 20:35   \n",
       "2       blanc, marine   11                         16/01/2020 16:24   \n",
       "3  blanc, multicolore    8                         16/01/2020 16:24   \n",
       "4         rose, blanc  607      15 utilisateurs    10/01/2020 11:28   \n",
       "\n",
       "                 8         9                         10   11  \\\n",
       "0  16/01/2020 15:44  179,00 €                        10  5.0   \n",
       "1  16/01/2020 16:34   60,00 €                         7  5.0   \n",
       "2  16/01/2020 16:19   40,00 €  Pas encore d'évaluation   0.0   \n",
       "3  16/01/2020 15:31   50,00 €                       114  5.0   \n",
       "4  16/01/2020 16:27   48,00 €                        21  5.0   \n",
       "\n",
       "                                               12  \\\n",
       "0  Adidas Stan Smith Mickey Mouse - Taille 38 2/3   \n",
       "1                              Adidas Stan Smith    \n",
       "2                       Basket adidas Stan Smith    \n",
       "3                                      Stan Smith   \n",
       "4                               Chaussures Femmes   \n",
       "\n",
       "                                                  13  14  \n",
       "0  \\u2022jamais porté \\n\\u2022nouveau, toujours d...   6  \n",
       "1  Adidas Stan Smith\\nExcellent état car porté un...   3  \n",
       "2  Neuf 👍basket blanche et marine adidas Stan Smi...   3  \n",
       "3                              Neuves jamais portées   4  \n",
       "4  Paire de chaussures Adidas Stan Smith BZ0115 P...   5  "
      ]
     },
     "execution_count": 14,
     "metadata": {},
     "output_type": "execute_result"
    }
   ],
   "source": [
    "df.head()"
   ]
  },
  {
   "cell_type": "code",
   "execution_count": 15,
   "metadata": {},
   "outputs": [],
   "source": [
    "df.columns=['Url','Brand','Size','Condition','Colors','Views','Interested','Uploaded','Last_seen','Price','Nb_evals','Stars','Title', 'Description','Nb_pictures' ]"
   ]
  },
  {
   "cell_type": "code",
   "execution_count": 16,
   "metadata": {},
   "outputs": [
    {
     "data": {
      "text/html": [
       "<div>\n",
       "<style scoped>\n",
       "    .dataframe tbody tr th:only-of-type {\n",
       "        vertical-align: middle;\n",
       "    }\n",
       "\n",
       "    .dataframe tbody tr th {\n",
       "        vertical-align: top;\n",
       "    }\n",
       "\n",
       "    .dataframe thead th {\n",
       "        text-align: right;\n",
       "    }\n",
       "</style>\n",
       "<table border=\"1\" class=\"dataframe\">\n",
       "  <thead>\n",
       "    <tr style=\"text-align: right;\">\n",
       "      <th></th>\n",
       "      <th>Url</th>\n",
       "      <th>Brand</th>\n",
       "      <th>Size</th>\n",
       "      <th>Condition</th>\n",
       "      <th>Colors</th>\n",
       "      <th>Views</th>\n",
       "      <th>Interested</th>\n",
       "      <th>Uploaded</th>\n",
       "      <th>Last_seen</th>\n",
       "      <th>Price</th>\n",
       "      <th>Nb_evals</th>\n",
       "      <th>Stars</th>\n",
       "      <th>Title</th>\n",
       "      <th>Description</th>\n",
       "      <th>Nb_pictures</th>\n",
       "    </tr>\n",
       "  </thead>\n",
       "  <tbody>\n",
       "    <tr>\n",
       "      <th>0</th>\n",
       "      <td>https://www.vinted.fr/femmes/baskets-baskets/3...</td>\n",
       "      <td>Adidas   Suivre</td>\n",
       "      <td>38</td>\n",
       "      <td>Neuf, avec étiquette</td>\n",
       "      <td>noir, blanc</td>\n",
       "      <td>42</td>\n",
       "      <td></td>\n",
       "      <td>16/01/2020 15:49</td>\n",
       "      <td>16/01/2020 15:44</td>\n",
       "      <td>179,00 €</td>\n",
       "      <td>10</td>\n",
       "      <td>5.0</td>\n",
       "      <td>Adidas Stan Smith Mickey Mouse - Taille 38 2/3</td>\n",
       "      <td>\\u2022jamais porté \\n\\u2022nouveau, toujours d...</td>\n",
       "      <td>6</td>\n",
       "    </tr>\n",
       "    <tr>\n",
       "      <th>1</th>\n",
       "      <td>https://www.vinted.fr/femmes/baskets-baskets/1...</td>\n",
       "      <td>Adidas   Suivre</td>\n",
       "      <td>38</td>\n",
       "      <td>Très bon état</td>\n",
       "      <td>noir, blanc</td>\n",
       "      <td>348</td>\n",
       "      <td>27 utilisateurs</td>\n",
       "      <td>15/11/2018 20:35</td>\n",
       "      <td>16/01/2020 16:34</td>\n",
       "      <td>60,00 €</td>\n",
       "      <td>7</td>\n",
       "      <td>5.0</td>\n",
       "      <td>Adidas Stan Smith</td>\n",
       "      <td>Adidas Stan Smith\\nExcellent état car porté un...</td>\n",
       "      <td>3</td>\n",
       "    </tr>\n",
       "    <tr>\n",
       "      <th>2</th>\n",
       "      <td>https://www.vinted.fr/femmes/chuck-taylor-conv...</td>\n",
       "      <td>Adidas   Suivre</td>\n",
       "      <td>38</td>\n",
       "      <td>Très bon état</td>\n",
       "      <td>blanc, marine</td>\n",
       "      <td>11</td>\n",
       "      <td></td>\n",
       "      <td>16/01/2020 16:24</td>\n",
       "      <td>16/01/2020 16:19</td>\n",
       "      <td>40,00 €</td>\n",
       "      <td>Pas encore d'évaluation</td>\n",
       "      <td>0.0</td>\n",
       "      <td>Basket adidas Stan Smith</td>\n",
       "      <td>Neuf 👍basket blanche et marine adidas Stan Smi...</td>\n",
       "      <td>3</td>\n",
       "    </tr>\n",
       "    <tr>\n",
       "      <th>3</th>\n",
       "      <td>https://www.vinted.fr/femmes/baskets-baskets/3...</td>\n",
       "      <td>Adidas   Suivre</td>\n",
       "      <td>38</td>\n",
       "      <td>Neuf</td>\n",
       "      <td>blanc, multicolore</td>\n",
       "      <td>8</td>\n",
       "      <td></td>\n",
       "      <td>16/01/2020 16:24</td>\n",
       "      <td>16/01/2020 15:31</td>\n",
       "      <td>50,00 €</td>\n",
       "      <td>114</td>\n",
       "      <td>5.0</td>\n",
       "      <td>Stan Smith</td>\n",
       "      <td>Neuves jamais portées</td>\n",
       "      <td>4</td>\n",
       "    </tr>\n",
       "    <tr>\n",
       "      <th>4</th>\n",
       "      <td>https://www.vinted.fr/femmes/baskets-baskets/3...</td>\n",
       "      <td>Adidas   Suivre</td>\n",
       "      <td>38</td>\n",
       "      <td>Neuf, avec étiquette</td>\n",
       "      <td>rose, blanc</td>\n",
       "      <td>607</td>\n",
       "      <td>15 utilisateurs</td>\n",
       "      <td>10/01/2020 11:28</td>\n",
       "      <td>16/01/2020 16:27</td>\n",
       "      <td>48,00 €</td>\n",
       "      <td>21</td>\n",
       "      <td>5.0</td>\n",
       "      <td>Chaussures Femmes</td>\n",
       "      <td>Paire de chaussures Adidas Stan Smith BZ0115 P...</td>\n",
       "      <td>5</td>\n",
       "    </tr>\n",
       "  </tbody>\n",
       "</table>\n",
       "</div>"
      ],
      "text/plain": [
       "                                                 Url            Brand  \\\n",
       "0  https://www.vinted.fr/femmes/baskets-baskets/3...  Adidas   Suivre   \n",
       "1  https://www.vinted.fr/femmes/baskets-baskets/1...  Adidas   Suivre   \n",
       "2  https://www.vinted.fr/femmes/chuck-taylor-conv...  Adidas   Suivre   \n",
       "3  https://www.vinted.fr/femmes/baskets-baskets/3...  Adidas   Suivre   \n",
       "4  https://www.vinted.fr/femmes/baskets-baskets/3...  Adidas   Suivre   \n",
       "\n",
       "                                      Size             Condition  \\\n",
       "0                  38                       Neuf, avec étiquette   \n",
       "1                  38                              Très bon état   \n",
       "2                  38                              Très bon état   \n",
       "3                  38                                       Neuf   \n",
       "4                  38                       Neuf, avec étiquette   \n",
       "\n",
       "               Colors Views             Interested          Uploaded  \\\n",
       "0         noir, blanc    42                         16/01/2020 15:49   \n",
       "1         noir, blanc   348      27 utilisateurs    15/11/2018 20:35   \n",
       "2       blanc, marine    11                         16/01/2020 16:24   \n",
       "3  blanc, multicolore     8                         16/01/2020 16:24   \n",
       "4         rose, blanc   607      15 utilisateurs    10/01/2020 11:28   \n",
       "\n",
       "          Last_seen     Price                  Nb_evals  Stars  \\\n",
       "0  16/01/2020 15:44  179,00 €                        10    5.0   \n",
       "1  16/01/2020 16:34   60,00 €                         7    5.0   \n",
       "2  16/01/2020 16:19   40,00 €  Pas encore d'évaluation     0.0   \n",
       "3  16/01/2020 15:31   50,00 €                       114    5.0   \n",
       "4  16/01/2020 16:27   48,00 €                        21    5.0   \n",
       "\n",
       "                                            Title  \\\n",
       "0  Adidas Stan Smith Mickey Mouse - Taille 38 2/3   \n",
       "1                              Adidas Stan Smith    \n",
       "2                       Basket adidas Stan Smith    \n",
       "3                                      Stan Smith   \n",
       "4                               Chaussures Femmes   \n",
       "\n",
       "                                         Description  Nb_pictures  \n",
       "0  \\u2022jamais porté \\n\\u2022nouveau, toujours d...            6  \n",
       "1  Adidas Stan Smith\\nExcellent état car porté un...            3  \n",
       "2  Neuf 👍basket blanche et marine adidas Stan Smi...            3  \n",
       "3                              Neuves jamais portées            4  \n",
       "4  Paire de chaussures Adidas Stan Smith BZ0115 P...            5  "
      ]
     },
     "execution_count": 16,
     "metadata": {},
     "output_type": "execute_result"
    }
   ],
   "source": [
    "df.head()"
   ]
  },
  {
   "cell_type": "code",
   "execution_count": 17,
   "metadata": {},
   "outputs": [],
   "source": [
    "df.to_csv('Vinted_messy.csv', index=False)"
   ]
  },
  {
   "cell_type": "code",
   "execution_count": 18,
   "metadata": {},
   "outputs": [
    {
     "data": {
      "text/plain": [
       "(583, 15)"
      ]
     },
     "execution_count": 18,
     "metadata": {},
     "output_type": "execute_result"
    }
   ],
   "source": [
    "df.shape"
   ]
  },
  {
   "cell_type": "markdown",
   "metadata": {},
   "source": [
    "# Cleaning"
   ]
  },
  {
   "cell_type": "code",
   "execution_count": 19,
   "metadata": {},
   "outputs": [],
   "source": [
    "import re"
   ]
  },
  {
   "cell_type": "code",
   "execution_count": 22,
   "metadata": {},
   "outputs": [],
   "source": [
    "df1=df.copy()"
   ]
  },
  {
   "cell_type": "code",
   "execution_count": 23,
   "metadata": {},
   "outputs": [
    {
     "data": {
      "text/plain": [
       "0    Adidas   Suivre\n",
       "1    Adidas   Suivre\n",
       "2    Adidas   Suivre\n",
       "3    Adidas   Suivre\n",
       "4    Adidas   Suivre\n",
       "Name: Brand, dtype: object"
      ]
     },
     "execution_count": 23,
     "metadata": {},
     "output_type": "execute_result"
    }
   ],
   "source": [
    "df1.Brand.head()"
   ]
  },
  {
   "cell_type": "code",
   "execution_count": 24,
   "metadata": {},
   "outputs": [],
   "source": [
    "df1.Brand=df.Brand.apply(lambda x: x.replace('Suivre','').strip())"
   ]
  },
  {
   "cell_type": "code",
   "execution_count": 25,
   "metadata": {},
   "outputs": [
    {
     "data": {
      "text/plain": [
       "0    Adidas\n",
       "1    Adidas\n",
       "2    Adidas\n",
       "3    Adidas\n",
       "4    Adidas\n",
       "Name: Brand, dtype: object"
      ]
     },
     "execution_count": 25,
     "metadata": {},
     "output_type": "execute_result"
    }
   ],
   "source": [
    "df1.Brand.head()"
   ]
  },
  {
   "cell_type": "code",
   "execution_count": 26,
   "metadata": {},
   "outputs": [
    {
     "data": {
      "text/plain": [
       "0    179,00 €\n",
       "1     60,00 €\n",
       "2     40,00 €\n",
       "3     50,00 €\n",
       "4     48,00 €\n",
       "Name: Price, dtype: object"
      ]
     },
     "execution_count": 26,
     "metadata": {},
     "output_type": "execute_result"
    }
   ],
   "source": [
    "df1.Price.head()"
   ]
  },
  {
   "cell_type": "code",
   "execution_count": 27,
   "metadata": {},
   "outputs": [],
   "source": [
    "df1.Price=df1.Price.apply(lambda x: x.replace(',','.').replace('€','')).astype(float)"
   ]
  },
  {
   "cell_type": "code",
   "execution_count": 28,
   "metadata": {},
   "outputs": [
    {
     "data": {
      "text/plain": [
       "0    179.0\n",
       "1     60.0\n",
       "2     40.0\n",
       "3     50.0\n",
       "4     48.0\n",
       "Name: Price, dtype: float64"
      ]
     },
     "execution_count": 28,
     "metadata": {},
     "output_type": "execute_result"
    }
   ],
   "source": [
    "df1.Price.head()"
   ]
  },
  {
   "cell_type": "code",
   "execution_count": 29,
   "metadata": {},
   "outputs": [
    {
     "data": {
      "text/plain": [
       "0     42\n",
       "1    348\n",
       "2     11\n",
       "3      8\n",
       "4    607\n",
       "Name: Views, dtype: object"
      ]
     },
     "execution_count": 29,
     "metadata": {},
     "output_type": "execute_result"
    }
   ],
   "source": [
    "df1.Views.head()"
   ]
  },
  {
   "cell_type": "code",
   "execution_count": 30,
   "metadata": {},
   "outputs": [],
   "source": [
    "df1.Views=df1.Views.astype(int)"
   ]
  },
  {
   "cell_type": "code",
   "execution_count": 31,
   "metadata": {},
   "outputs": [
    {
     "data": {
      "text/plain": [
       "0     42\n",
       "1    348\n",
       "2     11\n",
       "3      8\n",
       "4    607\n",
       "Name: Views, dtype: int32"
      ]
     },
     "execution_count": 31,
     "metadata": {},
     "output_type": "execute_result"
    }
   ],
   "source": [
    "df1.Views.head()"
   ]
  },
  {
   "cell_type": "code",
   "execution_count": 32,
   "metadata": {},
   "outputs": [
    {
     "data": {
      "text/plain": [
       "Pas encore d'évaluation     87\n",
       "1                           33\n",
       "5                           22\n",
       "3                           18\n",
       "4                           17\n",
       "Name: Nb_evals, dtype: int64"
      ]
     },
     "execution_count": 32,
     "metadata": {},
     "output_type": "execute_result"
    }
   ],
   "source": [
    "df1.Nb_evals.value_counts().head()"
   ]
  },
  {
   "cell_type": "code",
   "execution_count": 33,
   "metadata": {},
   "outputs": [],
   "source": [
    "df1.Nb_evals=df1.Nb_evals.apply(lambda x: int(x) if x.isdigit() else 0)"
   ]
  },
  {
   "cell_type": "code",
   "execution_count": 34,
   "metadata": {},
   "outputs": [
    {
     "data": {
      "text/plain": [
       "0                         \n",
       "1        27 utilisateurs  \n",
       "2                         \n",
       "3                         \n",
       "4        15 utilisateurs  \n",
       "Name: Interested, dtype: object"
      ]
     },
     "execution_count": 34,
     "metadata": {},
     "output_type": "execute_result"
    }
   ],
   "source": [
    "df1.Interested.head()"
   ]
  },
  {
   "cell_type": "code",
   "execution_count": 35,
   "metadata": {},
   "outputs": [
    {
     "data": {
      "text/plain": [
       "''"
      ]
     },
     "execution_count": 35,
     "metadata": {},
     "output_type": "execute_result"
    }
   ],
   "source": [
    "df1.Interested[3]"
   ]
  },
  {
   "cell_type": "code",
   "execution_count": 36,
   "metadata": {},
   "outputs": [
    {
     "data": {
      "text/plain": [
       "                        171\n",
       "    1 utilisateur       112\n",
       "    2 utilisateurs       61\n",
       "    3 utilisateurs       54\n",
       "    4 utilisateurs       37\n",
       "Name: Interested, dtype: int64"
      ]
     },
     "execution_count": 36,
     "metadata": {},
     "output_type": "execute_result"
    }
   ],
   "source": [
    "df1.Interested.value_counts().head()"
   ]
  },
  {
   "cell_type": "code",
   "execution_count": 37,
   "metadata": {},
   "outputs": [],
   "source": [
    "df1.Interested=df1.Interested.apply(lambda x: int(x[:-14]) if x!='' else 0) "
   ]
  },
  {
   "cell_type": "code",
   "execution_count": 38,
   "metadata": {},
   "outputs": [
    {
     "data": {
      "text/plain": [
       "0     0\n",
       "1    27\n",
       "2     0\n",
       "3     0\n",
       "4    15\n",
       "Name: Interested, dtype: int64"
      ]
     },
     "execution_count": 38,
     "metadata": {},
     "output_type": "execute_result"
    }
   ],
   "source": [
    "df1.Interested.head()"
   ]
  },
  {
   "cell_type": "code",
   "execution_count": 39,
   "metadata": {},
   "outputs": [
    {
     "data": {
      "text/plain": [
       "533                                          Stan smith \n",
       "58                                            Stan smith\n",
       "443                                    Stan smith neuves\n",
       "508    Stan smith Pharell Williams noires avec poids ...\n",
       "398                  Adidas Stan smith grise et blanche \n",
       "278                        Stan smith fluo a la lumière \n",
       "293               Stan smith adidas blanches et rouge 38\n",
       "329                                      Stan smith rose\n",
       "356                                 Stan smith à motifs \n",
       "346                                           Stan smith\n",
       "448                                     stan smith noir \n",
       "485                           Stan smith rouge framboise\n",
       "568                              Stan Smith blanche/bleu\n",
       "44                               Stan Smith Nuud blanche\n",
       "22                  Adidas stan smith blanches et vertes\n",
       "Name: Title, dtype: object"
      ]
     },
     "execution_count": 39,
     "metadata": {},
     "output_type": "execute_result"
    }
   ],
   "source": [
    "df1.Title.sample(15)"
   ]
  },
  {
   "cell_type": "code",
   "execution_count": 40,
   "metadata": {},
   "outputs": [],
   "source": [
    "df1.Title=df1.Title.str.strip().str.lower()"
   ]
  },
  {
   "cell_type": "code",
   "execution_count": 41,
   "metadata": {},
   "outputs": [],
   "source": [
    "trans_dict={\"à\": \"a\", \"â\":\"a\", \"é\": \"e\", \"è\" : \"e\", \"ë\": \"e\", \"ê\": \"e\", \"î\":\"i\",\"ö\":\"o\", \"ô\":\"o\",\"û\":\"u\",\"ù\":\"u\"}\n",
    "trans_table=\"àâéèëêîöôûù\".maketrans(trans_dict)"
   ]
  },
  {
   "cell_type": "code",
   "execution_count": 42,
   "metadata": {},
   "outputs": [],
   "source": [
    "df1.Title=df1.Title.str.translate(trans_table)"
   ]
  },
  {
   "cell_type": "code",
   "execution_count": 43,
   "metadata": {},
   "outputs": [
    {
     "data": {
      "text/plain": [
       "0     \\u2022jamais porté \\n\\u2022nouveau, toujours d...\n",
       "1     Adidas Stan Smith\\nExcellent état car porté un...\n",
       "2     Neuf 👍basket blanche et marine adidas Stan Smi...\n",
       "3                                 Neuves jamais portées\n",
       "4     Paire de chaussures Adidas Stan Smith BZ0115 P...\n",
       "5                                       Mise deux fois.\n",
       "6     basket Stan smith acheté y\\u2019a 6mois porté ...\n",
       "7             portées quelques fois mais encore propres\n",
       "8     baskets Adidas Stan smith authentique  neuve a...\n",
       "9     Vends paire de Stan Smith Snakeskin grise édit...\n",
       "10          Trés peu porté\\nEnvoi en colissimo pour 5 e\n",
       "11                               Selling my stan smith \n",
       "12        Paire toute neuve jamais portée \\nTaille 38\\n\n",
       "13    superbe adidas édition limitée\\nnoir à pois bl...\n",
       "14                             Adidas Stan Smith neuve \n",
       "Name: Description, dtype: object"
      ]
     },
     "execution_count": 43,
     "metadata": {},
     "output_type": "execute_result"
    }
   ],
   "source": [
    "df1.Description.head(15)"
   ]
  },
  {
   "cell_type": "code",
   "execution_count": 44,
   "metadata": {},
   "outputs": [],
   "source": [
    "df1.Description=df1.Description.str.replace(r'\\\\n',' ').str.strip().str.lower().str.translate(trans_table).apply(lambda x: bytes(x,encoding='utf8').decode('unicode_escape'))"
   ]
  },
  {
   "cell_type": "code",
   "execution_count": 45,
   "metadata": {},
   "outputs": [
    {
     "data": {
      "text/plain": [
       "0     •jamais porte  •nouveau, toujours dans la boit...\n",
       "1     adidas stan smith excellent etat car porte une...\n",
       "2     neuf ðbasket blanche et marine adidas stan ...\n",
       "3                                 neuves jamais portees\n",
       "4     paire de chaussures adidas stan smith bz0115 p...\n",
       "5                                       mise deux fois.\n",
       "6     basket stan smith achete y’a 6mois porte une s...\n",
       "7             portees quelques fois mais encore propres\n",
       "8     baskets adidas stan smith authentique  neuve a...\n",
       "9     vends paire de stan smith snakeskin grise edit...\n",
       "10           tres peu porte envoi en colissimo pour 5 e\n",
       "11                                selling my stan smith\n",
       "12           paire toute neuve jamais portee  taille 38\n",
       "13    superbe adidas edition limitee noir a pois bla...\n",
       "14                              adidas stan smith neuve\n",
       "Name: Description, dtype: object"
      ]
     },
     "execution_count": 45,
     "metadata": {},
     "output_type": "execute_result"
    }
   ],
   "source": [
    "df1.Description.head(15)"
   ]
  },
  {
   "cell_type": "code",
   "execution_count": 46,
   "metadata": {},
   "outputs": [
    {
     "data": {
      "text/plain": [
       "0    Neuf, avec étiquette\n",
       "1           Très bon état\n",
       "2           Très bon état\n",
       "3                    Neuf\n",
       "4    Neuf, avec étiquette\n",
       "Name: Condition, dtype: object"
      ]
     },
     "execution_count": 46,
     "metadata": {},
     "output_type": "execute_result"
    }
   ],
   "source": [
    "df1.Condition.head()"
   ]
  },
  {
   "cell_type": "code",
   "execution_count": 47,
   "metadata": {},
   "outputs": [],
   "source": [
    "df1.Condition=df1.Condition.str.replace(',','').str.lower().str.translate(trans_table)"
   ]
  },
  {
   "cell_type": "code",
   "execution_count": 48,
   "metadata": {},
   "outputs": [
    {
     "data": {
      "text/plain": [
       "0    neuf avec etiquette\n",
       "1          tres bon etat\n",
       "2          tres bon etat\n",
       "3                   neuf\n",
       "4    neuf avec etiquette\n",
       "Name: Condition, dtype: object"
      ]
     },
     "execution_count": 48,
     "metadata": {},
     "output_type": "execute_result"
    }
   ],
   "source": [
    "df1.Condition.head()"
   ]
  },
  {
   "cell_type": "code",
   "execution_count": 49,
   "metadata": {},
   "outputs": [
    {
     "data": {
      "text/plain": [
       "0           noir, blanc\n",
       "1           noir, blanc\n",
       "2         blanc, marine\n",
       "3    blanc, multicolore\n",
       "4           rose, blanc\n",
       "Name: Colors, dtype: object"
      ]
     },
     "execution_count": 49,
     "metadata": {},
     "output_type": "execute_result"
    }
   ],
   "source": [
    "df1.Colors.head()"
   ]
  },
  {
   "cell_type": "code",
   "execution_count": 50,
   "metadata": {},
   "outputs": [],
   "source": [
    "df1.Colors=df1.Colors.str.split(',')"
   ]
  },
  {
   "cell_type": "code",
   "execution_count": 51,
   "metadata": {},
   "outputs": [],
   "source": [
    "df1.Colors=df1.Colors.apply(lambda l: [x.strip().translate(trans_table).replace(' ','_') for x in l])"
   ]
  },
  {
   "cell_type": "code",
   "execution_count": 52,
   "metadata": {},
   "outputs": [
    {
     "data": {
      "text/plain": [
       "0           [noir, blanc]\n",
       "1           [noir, blanc]\n",
       "2         [blanc, marine]\n",
       "3    [blanc, multicolore]\n",
       "4           [rose, blanc]\n",
       "Name: Colors, dtype: object"
      ]
     },
     "execution_count": 52,
     "metadata": {},
     "output_type": "execute_result"
    }
   ],
   "source": [
    "df1.Colors.head()"
   ]
  },
  {
   "cell_type": "markdown",
   "metadata": {},
   "source": [
    "- now we want to get 1 column per color, so that we can filter by color if needed"
   ]
  },
  {
   "cell_type": "code",
   "execution_count": 53,
   "metadata": {},
   "outputs": [],
   "source": [
    "from itertools import chain\n",
    "colors = list(set(chain.from_iterable(df1.Colors)))"
   ]
  },
  {
   "cell_type": "code",
   "execution_count": 54,
   "metadata": {},
   "outputs": [
    {
     "data": {
      "text/plain": [
       "['argente',\n",
       " 'gris',\n",
       " 'menthe',\n",
       " 'rose',\n",
       " 'violet',\n",
       " 'corail',\n",
       " 'bordeaux',\n",
       " 'rouge',\n",
       " 'marine',\n",
       " 'beige',\n",
       " 'turquoise',\n",
       " 'dore',\n",
       " 'kaki',\n",
       " 'noir',\n",
       " 'blanc',\n",
       " 'orange',\n",
       " 'creme',\n",
       " 'jaune',\n",
       " 'bleu_clair',\n",
       " 'bleu',\n",
       " 'multicolore',\n",
       " 'vert_fonce',\n",
       " 'marron',\n",
       " 'vert']"
      ]
     },
     "execution_count": 54,
     "metadata": {},
     "output_type": "execute_result"
    }
   ],
   "source": [
    "colors"
   ]
  },
  {
   "cell_type": "code",
   "execution_count": 55,
   "metadata": {},
   "outputs": [],
   "source": [
    "for c in colors:\n",
    "    df1['color_'+c]=df1.Colors.apply(lambda x: 1 if c in x else 0)"
   ]
  },
  {
   "cell_type": "code",
   "execution_count": 56,
   "metadata": {
    "scrolled": true
   },
   "outputs": [
    {
     "data": {
      "text/html": [
       "<div>\n",
       "<style scoped>\n",
       "    .dataframe tbody tr th:only-of-type {\n",
       "        vertical-align: middle;\n",
       "    }\n",
       "\n",
       "    .dataframe tbody tr th {\n",
       "        vertical-align: top;\n",
       "    }\n",
       "\n",
       "    .dataframe thead th {\n",
       "        text-align: right;\n",
       "    }\n",
       "</style>\n",
       "<table border=\"1\" class=\"dataframe\">\n",
       "  <thead>\n",
       "    <tr style=\"text-align: right;\">\n",
       "      <th></th>\n",
       "      <th>Url</th>\n",
       "      <th>Brand</th>\n",
       "      <th>Size</th>\n",
       "      <th>Condition</th>\n",
       "      <th>Colors</th>\n",
       "      <th>Views</th>\n",
       "      <th>Interested</th>\n",
       "      <th>Uploaded</th>\n",
       "      <th>Last_seen</th>\n",
       "      <th>Price</th>\n",
       "      <th>...</th>\n",
       "      <th>color_blanc</th>\n",
       "      <th>color_orange</th>\n",
       "      <th>color_creme</th>\n",
       "      <th>color_jaune</th>\n",
       "      <th>color_bleu_clair</th>\n",
       "      <th>color_bleu</th>\n",
       "      <th>color_multicolore</th>\n",
       "      <th>color_vert_fonce</th>\n",
       "      <th>color_marron</th>\n",
       "      <th>color_vert</th>\n",
       "    </tr>\n",
       "  </thead>\n",
       "  <tbody>\n",
       "    <tr>\n",
       "      <th>0</th>\n",
       "      <td>https://www.vinted.fr/femmes/baskets-baskets/3...</td>\n",
       "      <td>Adidas</td>\n",
       "      <td>38</td>\n",
       "      <td>neuf avec etiquette</td>\n",
       "      <td>[noir, blanc]</td>\n",
       "      <td>42</td>\n",
       "      <td>0</td>\n",
       "      <td>16/01/2020 15:49</td>\n",
       "      <td>16/01/2020 15:44</td>\n",
       "      <td>179.0</td>\n",
       "      <td>...</td>\n",
       "      <td>1</td>\n",
       "      <td>0</td>\n",
       "      <td>0</td>\n",
       "      <td>0</td>\n",
       "      <td>0</td>\n",
       "      <td>0</td>\n",
       "      <td>0</td>\n",
       "      <td>0</td>\n",
       "      <td>0</td>\n",
       "      <td>0</td>\n",
       "    </tr>\n",
       "    <tr>\n",
       "      <th>1</th>\n",
       "      <td>https://www.vinted.fr/femmes/baskets-baskets/1...</td>\n",
       "      <td>Adidas</td>\n",
       "      <td>38</td>\n",
       "      <td>tres bon etat</td>\n",
       "      <td>[noir, blanc]</td>\n",
       "      <td>348</td>\n",
       "      <td>27</td>\n",
       "      <td>15/11/2018 20:35</td>\n",
       "      <td>16/01/2020 16:34</td>\n",
       "      <td>60.0</td>\n",
       "      <td>...</td>\n",
       "      <td>1</td>\n",
       "      <td>0</td>\n",
       "      <td>0</td>\n",
       "      <td>0</td>\n",
       "      <td>0</td>\n",
       "      <td>0</td>\n",
       "      <td>0</td>\n",
       "      <td>0</td>\n",
       "      <td>0</td>\n",
       "      <td>0</td>\n",
       "    </tr>\n",
       "    <tr>\n",
       "      <th>2</th>\n",
       "      <td>https://www.vinted.fr/femmes/chuck-taylor-conv...</td>\n",
       "      <td>Adidas</td>\n",
       "      <td>38</td>\n",
       "      <td>tres bon etat</td>\n",
       "      <td>[blanc, marine]</td>\n",
       "      <td>11</td>\n",
       "      <td>0</td>\n",
       "      <td>16/01/2020 16:24</td>\n",
       "      <td>16/01/2020 16:19</td>\n",
       "      <td>40.0</td>\n",
       "      <td>...</td>\n",
       "      <td>1</td>\n",
       "      <td>0</td>\n",
       "      <td>0</td>\n",
       "      <td>0</td>\n",
       "      <td>0</td>\n",
       "      <td>0</td>\n",
       "      <td>0</td>\n",
       "      <td>0</td>\n",
       "      <td>0</td>\n",
       "      <td>0</td>\n",
       "    </tr>\n",
       "    <tr>\n",
       "      <th>3</th>\n",
       "      <td>https://www.vinted.fr/femmes/baskets-baskets/3...</td>\n",
       "      <td>Adidas</td>\n",
       "      <td>38</td>\n",
       "      <td>neuf</td>\n",
       "      <td>[blanc, multicolore]</td>\n",
       "      <td>8</td>\n",
       "      <td>0</td>\n",
       "      <td>16/01/2020 16:24</td>\n",
       "      <td>16/01/2020 15:31</td>\n",
       "      <td>50.0</td>\n",
       "      <td>...</td>\n",
       "      <td>1</td>\n",
       "      <td>0</td>\n",
       "      <td>0</td>\n",
       "      <td>0</td>\n",
       "      <td>0</td>\n",
       "      <td>0</td>\n",
       "      <td>1</td>\n",
       "      <td>0</td>\n",
       "      <td>0</td>\n",
       "      <td>0</td>\n",
       "    </tr>\n",
       "    <tr>\n",
       "      <th>4</th>\n",
       "      <td>https://www.vinted.fr/femmes/baskets-baskets/3...</td>\n",
       "      <td>Adidas</td>\n",
       "      <td>38</td>\n",
       "      <td>neuf avec etiquette</td>\n",
       "      <td>[rose, blanc]</td>\n",
       "      <td>607</td>\n",
       "      <td>15</td>\n",
       "      <td>10/01/2020 11:28</td>\n",
       "      <td>16/01/2020 16:27</td>\n",
       "      <td>48.0</td>\n",
       "      <td>...</td>\n",
       "      <td>1</td>\n",
       "      <td>0</td>\n",
       "      <td>0</td>\n",
       "      <td>0</td>\n",
       "      <td>0</td>\n",
       "      <td>0</td>\n",
       "      <td>0</td>\n",
       "      <td>0</td>\n",
       "      <td>0</td>\n",
       "      <td>0</td>\n",
       "    </tr>\n",
       "  </tbody>\n",
       "</table>\n",
       "<p>5 rows × 39 columns</p>\n",
       "</div>"
      ],
      "text/plain": [
       "                                                 Url   Brand  \\\n",
       "0  https://www.vinted.fr/femmes/baskets-baskets/3...  Adidas   \n",
       "1  https://www.vinted.fr/femmes/baskets-baskets/1...  Adidas   \n",
       "2  https://www.vinted.fr/femmes/chuck-taylor-conv...  Adidas   \n",
       "3  https://www.vinted.fr/femmes/baskets-baskets/3...  Adidas   \n",
       "4  https://www.vinted.fr/femmes/baskets-baskets/3...  Adidas   \n",
       "\n",
       "                                      Size            Condition  \\\n",
       "0                  38                       neuf avec etiquette   \n",
       "1                  38                             tres bon etat   \n",
       "2                  38                             tres bon etat   \n",
       "3                  38                                      neuf   \n",
       "4                  38                       neuf avec etiquette   \n",
       "\n",
       "                 Colors  Views  Interested          Uploaded  \\\n",
       "0         [noir, blanc]     42           0  16/01/2020 15:49   \n",
       "1         [noir, blanc]    348          27  15/11/2018 20:35   \n",
       "2       [blanc, marine]     11           0  16/01/2020 16:24   \n",
       "3  [blanc, multicolore]      8           0  16/01/2020 16:24   \n",
       "4         [rose, blanc]    607          15  10/01/2020 11:28   \n",
       "\n",
       "          Last_seen  Price  ...  color_blanc  color_orange color_creme  \\\n",
       "0  16/01/2020 15:44  179.0  ...            1             0           0   \n",
       "1  16/01/2020 16:34   60.0  ...            1             0           0   \n",
       "2  16/01/2020 16:19   40.0  ...            1             0           0   \n",
       "3  16/01/2020 15:31   50.0  ...            1             0           0   \n",
       "4  16/01/2020 16:27   48.0  ...            1             0           0   \n",
       "\n",
       "  color_jaune  color_bleu_clair  color_bleu  color_multicolore  \\\n",
       "0           0                 0           0                  0   \n",
       "1           0                 0           0                  0   \n",
       "2           0                 0           0                  0   \n",
       "3           0                 0           0                  1   \n",
       "4           0                 0           0                  0   \n",
       "\n",
       "   color_vert_fonce  color_marron  color_vert  \n",
       "0                 0             0           0  \n",
       "1                 0             0           0  \n",
       "2                 0             0           0  \n",
       "3                 0             0           0  \n",
       "4                 0             0           0  \n",
       "\n",
       "[5 rows x 39 columns]"
      ]
     },
     "execution_count": 56,
     "metadata": {},
     "output_type": "execute_result"
    }
   ],
   "source": [
    "df1.head()"
   ]
  },
  {
   "cell_type": "code",
   "execution_count": 57,
   "metadata": {},
   "outputs": [
    {
     "data": {
      "text/plain": [
       "Index(['Url', 'Brand', 'Size', 'Condition', 'Colors', 'Views', 'Interested',\n",
       "       'Uploaded', 'Last_seen', 'Price', 'Nb_evals', 'Stars', 'Title',\n",
       "       'Description', 'Nb_pictures', 'color_argente', 'color_gris',\n",
       "       'color_menthe', 'color_rose', 'color_violet', 'color_corail',\n",
       "       'color_bordeaux', 'color_rouge', 'color_marine', 'color_beige',\n",
       "       'color_turquoise', 'color_dore', 'color_kaki', 'color_noir',\n",
       "       'color_blanc', 'color_orange', 'color_creme', 'color_jaune',\n",
       "       'color_bleu_clair', 'color_bleu', 'color_multicolore',\n",
       "       'color_vert_fonce', 'color_marron', 'color_vert'],\n",
       "      dtype='object')"
      ]
     },
     "execution_count": 57,
     "metadata": {},
     "output_type": "execute_result"
    }
   ],
   "source": [
    "df1.columns"
   ]
  },
  {
   "cell_type": "code",
   "execution_count": 58,
   "metadata": {},
   "outputs": [],
   "source": [
    "df1.Uploaded = pd.to_datetime(df.Uploaded)"
   ]
  },
  {
   "cell_type": "code",
   "execution_count": 59,
   "metadata": {},
   "outputs": [],
   "source": [
    "df1.Last_seen = pd.to_datetime(df.Last_seen)"
   ]
  },
  {
   "cell_type": "code",
   "execution_count": 60,
   "metadata": {},
   "outputs": [],
   "source": [
    "df1.to_csv('Vinted_Clean.csv', index=False)"
   ]
  },
  {
   "cell_type": "code",
   "execution_count": 73,
   "metadata": {},
   "outputs": [
    {
     "data": {
      "image/png": "[encoded data removed]",
      "text/plain": [
       "<Figure size 432x288 with 1 Axes>"
      ]
     },
     "metadata": {
      "needs_background": "light"
     },
     "output_type": "display_data"
    }
   ],
   "source": [
    "df1.Last_seen.hist(xrot=90)\n",
    "plt.show()"
   ]
  },
  {
   "cell_type": "code",
   "execution_count": 74,
   "metadata": {},
   "outputs": [
    {
     "data": {
      "text/plain": [
       "<matplotlib.axes._subplots.AxesSubplot at 0x16e6ca90>"
      ]
     },
     "execution_count": 74,
     "metadata": {},
     "output_type": "execute_result"
    },
    {
     "data": {
      "image/png": "[encoded data removed]",
      "text/plain": [
       "<Figure size 432x288 with 1 Axes>"
      ]
     },
     "metadata": {
      "needs_background": "light"
     },
     "output_type": "display_data"
    }
   ],
   "source": [
    "df1.Price.hist(bins=20)"
   ]
  },
  {
   "cell_type": "code",
   "execution_count": 75,
   "metadata": {},
   "outputs": [
    {
     "data": {
      "text/plain": [
       "<matplotlib.axes._subplots.AxesSubplot at 0x173d0e10>"
      ]
     },
     "execution_count": 75,
     "metadata": {},
     "output_type": "execute_result"
    },
    {
     "data": {
      "image/png": "[encoded data removed]",
      "text/plain": [
       "<Figure size 432x288 with 1 Axes>"
      ]
     },
     "metadata": {
      "needs_background": "light"
     },
     "output_type": "display_data"
    }
   ],
   "source": [
    "df1.Nb_evals.hist(bins=50)"
   ]
  },
  {
   "cell_type": "code",
   "execution_count": 76,
   "metadata": {},
   "outputs": [
    {
     "data": {
      "text/plain": [
       "<matplotlib.axes._subplots.AxesSubplot at 0x14bcc400>"
      ]
     },
     "execution_count": 76,
     "metadata": {},
     "output_type": "execute_result"
    },
    {
     "data": {
      "image/png": "[encoded data removed]",
      "text/plain": [
       "<Figure size 432x288 with 1 Axes>"
      ]
     },
     "metadata": {
      "needs_background": "light"
     },
     "output_type": "display_data"
    }
   ],
   "source": [
    "df1.Stars.hist()"
   ]
  },
  {
   "cell_type": "markdown",
   "metadata": {},
   "source": [
    "# Filtering "
   ]
  },
  {
   "cell_type": "markdown",
   "metadata": {},
   "source": [
    "### 1. Condition :\n",
    "- 1 = satisfaisant\n",
    "- 2 = bon état\n",
    "- 3 = tres bon etat\n",
    "- 4 = neuf\n",
    "- 5 = neuf avec etiquette"
   ]
  },
  {
   "cell_type": "code",
   "execution_count": 6,
   "metadata": {},
   "outputs": [],
   "source": [
    "dict_cond={'satisfaisant': 1, 'bon etat':2, 'tres bon etat':3, 'neuf':4, 'neuf avec etiquette':5 }\n",
    "df1['Condition_cat']=df1.Condition.apply(lambda x: dict_cond[x])"
   ]
  },
  {
   "cell_type": "code",
   "execution_count": 7,
   "metadata": {},
   "outputs": [
    {
     "data": {
      "text/plain": [
       "0    5\n",
       "1    3\n",
       "2    3\n",
       "3    4\n",
       "4    5\n",
       "Name: Condition_cat, dtype: int64"
      ]
     },
     "execution_count": 7,
     "metadata": {},
     "output_type": "execute_result"
    }
   ],
   "source": [
    "df1.Condition_cat.head()"
   ]
  },
  {
   "cell_type": "code",
   "execution_count": 9,
   "metadata": {},
   "outputs": [
    {
     "data": {
      "image/png": "[encoded data removed]",
      "text/plain": [
       "<Figure size 432x288 with 1 Axes>"
      ]
     },
     "metadata": {
      "needs_background": "light"
     },
     "output_type": "display_data"
    }
   ],
   "source": [
    "df1.Condition_cat.hist()\n",
    "plt.show()"
   ]
  },
  {
   "cell_type": "markdown",
   "metadata": {},
   "source": [
    "#### Price according to Condition\n",
    "- we will study the price distribution for each category\n",
    "- then define a reasonable price range for each category :\n"
   ]
  },
  {
   "cell_type": "markdown",
   "metadata": {},
   "source": [
    "1. if the price is too low, it is very likely that the product is a fake"
   ]
  },
  {
   "cell_type": "code",
   "execution_count": 10,
   "metadata": {},
   "outputs": [],
   "source": [
    "Price_stats=df1.groupby('Condition_cat').agg({'Price':['mean','median',pd.Series.mode,pd.Series.std]})"
   ]
  },
  {
   "cell_type": "code",
   "execution_count": 11,
   "metadata": {},
   "outputs": [],
   "source": [
    "Price_stats.columns=Price_stats.columns.droplevel(0)"
   ]
  },
  {
   "cell_type": "code",
   "execution_count": 12,
   "metadata": {},
   "outputs": [],
   "source": [
    "Price_stats.rename({'mean':'Mean', 'median':'Median','mode':'Modes','std':'Standard_dev'}, axis=1, inplace=True)"
   ]
  },
  {
   "cell_type": "code",
   "execution_count": 13,
   "metadata": {},
   "outputs": [
    {
     "data": {
      "text/html": [
       "<div>\n",
       "<style scoped>\n",
       "    .dataframe tbody tr th:only-of-type {\n",
       "        vertical-align: middle;\n",
       "    }\n",
       "\n",
       "    .dataframe tbody tr th {\n",
       "        vertical-align: top;\n",
       "    }\n",
       "\n",
       "    .dataframe thead th {\n",
       "        text-align: right;\n",
       "    }\n",
       "</style>\n",
       "<table border=\"1\" class=\"dataframe\">\n",
       "  <thead>\n",
       "    <tr style=\"text-align: right;\">\n",
       "      <th></th>\n",
       "      <th>Mean</th>\n",
       "      <th>Median</th>\n",
       "      <th>Modes</th>\n",
       "      <th>Standard_dev</th>\n",
       "    </tr>\n",
       "    <tr>\n",
       "      <th>Condition_cat</th>\n",
       "      <th></th>\n",
       "      <th></th>\n",
       "      <th></th>\n",
       "      <th></th>\n",
       "    </tr>\n",
       "  </thead>\n",
       "  <tbody>\n",
       "    <tr>\n",
       "      <th>3</th>\n",
       "      <td>41.087719</td>\n",
       "      <td>40.0</td>\n",
       "      <td>40.0</td>\n",
       "      <td>22.569307</td>\n",
       "    </tr>\n",
       "    <tr>\n",
       "      <th>4</th>\n",
       "      <td>64.380217</td>\n",
       "      <td>60.0</td>\n",
       "      <td>70.0</td>\n",
       "      <td>25.551934</td>\n",
       "    </tr>\n",
       "    <tr>\n",
       "      <th>5</th>\n",
       "      <td>78.061605</td>\n",
       "      <td>69.0</td>\n",
       "      <td>60.0</td>\n",
       "      <td>34.869480</td>\n",
       "    </tr>\n",
       "  </tbody>\n",
       "</table>\n",
       "</div>"
      ],
      "text/plain": [
       "                    Mean  Median  Modes  Standard_dev\n",
       "Condition_cat                                        \n",
       "3              41.087719    40.0   40.0     22.569307\n",
       "4              64.380217    60.0   70.0     25.551934\n",
       "5              78.061605    69.0   60.0     34.869480"
      ]
     },
     "execution_count": 13,
     "metadata": {},
     "output_type": "execute_result"
    }
   ],
   "source": [
    "Price_stats"
   ]
  },
  {
   "cell_type": "markdown",
   "metadata": {},
   "source": [
    "- We need to define a cut off price for each condition.\n",
    "- As a starting point that could be refined later, we will take $cutoff=mean - std$"
   ]
  },
  {
   "cell_type": "code",
   "execution_count": 14,
   "metadata": {},
   "outputs": [],
   "source": [
    "Price_stats['Price_cutoff']=Price_stats.apply(lambda row: row['Mean']-row['Standard_dev'], axis=1)"
   ]
  },
  {
   "cell_type": "code",
   "execution_count": 15,
   "metadata": {},
   "outputs": [
    {
     "data": {
      "text/html": [
       "<div>\n",
       "<style scoped>\n",
       "    .dataframe tbody tr th:only-of-type {\n",
       "        vertical-align: middle;\n",
       "    }\n",
       "\n",
       "    .dataframe tbody tr th {\n",
       "        vertical-align: top;\n",
       "    }\n",
       "\n",
       "    .dataframe thead th {\n",
       "        text-align: right;\n",
       "    }\n",
       "</style>\n",
       "<table border=\"1\" class=\"dataframe\">\n",
       "  <thead>\n",
       "    <tr style=\"text-align: right;\">\n",
       "      <th></th>\n",
       "      <th>Mean</th>\n",
       "      <th>Median</th>\n",
       "      <th>Modes</th>\n",
       "      <th>Standard_dev</th>\n",
       "      <th>Price_cutoff</th>\n",
       "    </tr>\n",
       "    <tr>\n",
       "      <th>Condition_cat</th>\n",
       "      <th></th>\n",
       "      <th></th>\n",
       "      <th></th>\n",
       "      <th></th>\n",
       "      <th></th>\n",
       "    </tr>\n",
       "  </thead>\n",
       "  <tbody>\n",
       "    <tr>\n",
       "      <th>3</th>\n",
       "      <td>41.087719</td>\n",
       "      <td>40.0</td>\n",
       "      <td>40.0</td>\n",
       "      <td>22.569307</td>\n",
       "      <td>18.518413</td>\n",
       "    </tr>\n",
       "    <tr>\n",
       "      <th>4</th>\n",
       "      <td>64.380217</td>\n",
       "      <td>60.0</td>\n",
       "      <td>70.0</td>\n",
       "      <td>25.551934</td>\n",
       "      <td>38.828283</td>\n",
       "    </tr>\n",
       "    <tr>\n",
       "      <th>5</th>\n",
       "      <td>78.061605</td>\n",
       "      <td>69.0</td>\n",
       "      <td>60.0</td>\n",
       "      <td>34.869480</td>\n",
       "      <td>43.192125</td>\n",
       "    </tr>\n",
       "  </tbody>\n",
       "</table>\n",
       "</div>"
      ],
      "text/plain": [
       "                    Mean  Median  Modes  Standard_dev  Price_cutoff\n",
       "Condition_cat                                                      \n",
       "3              41.087719    40.0   40.0     22.569307     18.518413\n",
       "4              64.380217    60.0   70.0     25.551934     38.828283\n",
       "5              78.061605    69.0   60.0     34.869480     43.192125"
      ]
     },
     "execution_count": 15,
     "metadata": {},
     "output_type": "execute_result"
    }
   ],
   "source": [
    "Price_stats"
   ]
  },
  {
   "cell_type": "markdown",
   "metadata": {},
   "source": [
    "-  we exclude prices that are lower than the cutoff for the category"
   ]
  },
  {
   "cell_type": "code",
   "execution_count": 16,
   "metadata": {},
   "outputs": [],
   "source": [
    "df1_filter=df1[df1[['Price','Condition_cat']].apply(lambda row: row.Price > Price_stats.Price_cutoff[row.Condition_cat], axis=1)].copy()"
   ]
  },
  {
   "cell_type": "code",
   "execution_count": 17,
   "metadata": {},
   "outputs": [
    {
     "data": {
      "text/plain": [
       "(535, 40)"
      ]
     },
     "execution_count": 17,
     "metadata": {},
     "output_type": "execute_result"
    }
   ],
   "source": [
    "df1_filter.shape"
   ]
  },
  {
   "cell_type": "markdown",
   "metadata": {},
   "source": [
    "2. we don't want to spend too much money for a second hand product"
   ]
  },
  {
   "cell_type": "markdown",
   "metadata": {},
   "source": [
    "- for each Condition, we separate the prices into 5 bins and give a score that is maximum for lower price and minimum for the highest prices"
   ]
  },
  {
   "cell_type": "code",
   "execution_count": 18,
   "metadata": {},
   "outputs": [
    {
     "data": {
      "text/plain": [
       "[5, 4, 3, 2, 1]"
      ]
     },
     "execution_count": 18,
     "metadata": {},
     "output_type": "execute_result"
    }
   ],
   "source": [
    "scores=list(range(5,0,-1))\n",
    "scores"
   ]
  },
  {
   "cell_type": "code",
   "execution_count": 19,
   "metadata": {},
   "outputs": [
    {
     "data": {
      "text/plain": [
       "(535, 41)"
      ]
     },
     "execution_count": 19,
     "metadata": {},
     "output_type": "execute_result"
    }
   ],
   "source": [
    "data_filter=pd.DataFrame()\n",
    "for cat in df1_filter.Condition_cat.unique():\n",
    "    df_cat=df1_filter[df1_filter.Condition_cat==cat].copy()\n",
    "    df_cat['score']=pd.qcut(df_cat.Price,5, labels=scores, duplicates='drop')\n",
    "    data_filter=data_filter.append(df_cat)\n",
    "data_filter.shape"
   ]
  },
  {
   "cell_type": "code",
   "execution_count": null,
   "metadata": {},
   "outputs": [],
   "source": [
    "#####################################################################################\n",
    "# to see the price intervals corresponding to each score for each condition category:"
   ]
  },
  {
   "cell_type": "code",
   "execution_count": 25,
   "metadata": {},
   "outputs": [],
   "source": [
    "df_cat3=df1_filter[df1_filter.Condition_cat==3].copy().sort_values(by=['Price'], ascending=True)\n",
    "df_cat4=df1_filter[df1_filter.Condition_cat==4].copy().sort_values(by=['Price'], ascending=True)\n",
    "df_cat5=df1_filter[df1_filter.Condition_cat==5].copy().sort_values(by=['Price'], ascending=True)"
   ]
  },
  {
   "cell_type": "code",
   "execution_count": 24,
   "metadata": {},
   "outputs": [
    {
     "data": {
      "text/plain": [
       "[(18.999, 30.0], (30.0, 39.0], (39.0, 45.0], (45.0, 55.0], (55.0, 280.0]]\n",
       "Categories (5, interval[float64]): [(18.999, 30.0] < (30.0, 39.0] < (39.0, 45.0] < (45.0, 55.0] < (55.0, 280.0]]"
      ]
     },
     "execution_count": 24,
     "metadata": {},
     "output_type": "execute_result"
    }
   ],
   "source": [
    "pd.qcut(df_cat3.Price,5, duplicates='drop').unique()"
   ]
  },
  {
   "cell_type": "code",
   "execution_count": 26,
   "metadata": {},
   "outputs": [
    {
     "data": {
      "text/plain": [
       "[(41.999, 50.0], (50.0, 60.0], (60.0, 70.0], (70.0, 80.0], (80.0, 150.0]]\n",
       "Categories (5, interval[float64]): [(41.999, 50.0] < (50.0, 60.0] < (60.0, 70.0] < (70.0, 80.0] < (80.0, 150.0]]"
      ]
     },
     "execution_count": 26,
     "metadata": {},
     "output_type": "execute_result"
    }
   ],
   "source": [
    "pd.qcut(df_cat4.Price,5, duplicates='drop').unique()"
   ]
  },
  {
   "cell_type": "code",
   "execution_count": 27,
   "metadata": {},
   "outputs": [
    {
     "data": {
      "text/plain": [
       "[(47.999, 59.9], (59.9, 65.0], (65.0, 74.936], (74.936, 90.0], (90.0, 190.0]]\n",
       "Categories (5, interval[float64]): [(47.999, 59.9] < (59.9, 65.0] < (65.0, 74.936] < (74.936, 90.0] < (90.0, 190.0]]"
      ]
     },
     "execution_count": 27,
     "metadata": {},
     "output_type": "execute_result"
    }
   ],
   "source": [
    "pd.qcut(df_cat5.Price,5, duplicates='drop').unique()"
   ]
  },
  {
   "cell_type": "code",
   "execution_count": null,
   "metadata": {},
   "outputs": [],
   "source": [
    "#####################################################################################"
   ]
  },
  {
   "cell_type": "code",
   "execution_count": 90,
   "metadata": {},
   "outputs": [
    {
     "data": {
      "text/html": [
       "<div>\n",
       "<style scoped>\n",
       "    .dataframe tbody tr th:only-of-type {\n",
       "        vertical-align: middle;\n",
       "    }\n",
       "\n",
       "    .dataframe tbody tr th {\n",
       "        vertical-align: top;\n",
       "    }\n",
       "\n",
       "    .dataframe thead th {\n",
       "        text-align: right;\n",
       "    }\n",
       "</style>\n",
       "<table border=\"1\" class=\"dataframe\">\n",
       "  <thead>\n",
       "    <tr style=\"text-align: right;\">\n",
       "      <th></th>\n",
       "      <th>Url</th>\n",
       "      <th>Brand</th>\n",
       "      <th>Size</th>\n",
       "      <th>Condition</th>\n",
       "      <th>Colors</th>\n",
       "      <th>Views</th>\n",
       "      <th>Interested</th>\n",
       "      <th>Uploaded</th>\n",
       "      <th>Last_seen</th>\n",
       "      <th>Price</th>\n",
       "      <th>...</th>\n",
       "      <th>color_creme</th>\n",
       "      <th>color_jaune</th>\n",
       "      <th>color_bleu_clair</th>\n",
       "      <th>color_bleu</th>\n",
       "      <th>color_multicolore</th>\n",
       "      <th>color_vert_fonce</th>\n",
       "      <th>color_marron</th>\n",
       "      <th>color_vert</th>\n",
       "      <th>Condition_cat</th>\n",
       "      <th>score</th>\n",
       "    </tr>\n",
       "  </thead>\n",
       "  <tbody>\n",
       "    <tr>\n",
       "      <th>0</th>\n",
       "      <td>https://www.vinted.fr/femmes/baskets-baskets/3...</td>\n",
       "      <td>Adidas</td>\n",
       "      <td>38</td>\n",
       "      <td>neuf avec etiquette</td>\n",
       "      <td>[noir, blanc]</td>\n",
       "      <td>42</td>\n",
       "      <td>0</td>\n",
       "      <td>2020-01-16 15:49:00</td>\n",
       "      <td>2020-01-16 15:44:00</td>\n",
       "      <td>179.0</td>\n",
       "      <td>...</td>\n",
       "      <td>0</td>\n",
       "      <td>0</td>\n",
       "      <td>0</td>\n",
       "      <td>0</td>\n",
       "      <td>0</td>\n",
       "      <td>0</td>\n",
       "      <td>0</td>\n",
       "      <td>0</td>\n",
       "      <td>5</td>\n",
       "      <td>1</td>\n",
       "    </tr>\n",
       "    <tr>\n",
       "      <th>4</th>\n",
       "      <td>https://www.vinted.fr/femmes/baskets-baskets/3...</td>\n",
       "      <td>Adidas</td>\n",
       "      <td>38</td>\n",
       "      <td>neuf avec etiquette</td>\n",
       "      <td>[rose, blanc]</td>\n",
       "      <td>607</td>\n",
       "      <td>15</td>\n",
       "      <td>2020-10-01 11:28:00</td>\n",
       "      <td>2020-01-16 16:27:00</td>\n",
       "      <td>48.0</td>\n",
       "      <td>...</td>\n",
       "      <td>0</td>\n",
       "      <td>0</td>\n",
       "      <td>0</td>\n",
       "      <td>0</td>\n",
       "      <td>0</td>\n",
       "      <td>0</td>\n",
       "      <td>0</td>\n",
       "      <td>0</td>\n",
       "      <td>5</td>\n",
       "      <td>5</td>\n",
       "    </tr>\n",
       "    <tr>\n",
       "      <th>8</th>\n",
       "      <td>https://www.vinted.fr/femmes/baskets-baskets/3...</td>\n",
       "      <td>Adidas</td>\n",
       "      <td>38</td>\n",
       "      <td>neuf avec etiquette</td>\n",
       "      <td>[blanc, bordeaux]</td>\n",
       "      <td>382</td>\n",
       "      <td>6</td>\n",
       "      <td>2020-01-15 12:39:00</td>\n",
       "      <td>2020-01-16 16:39:00</td>\n",
       "      <td>75.0</td>\n",
       "      <td>...</td>\n",
       "      <td>0</td>\n",
       "      <td>0</td>\n",
       "      <td>0</td>\n",
       "      <td>0</td>\n",
       "      <td>0</td>\n",
       "      <td>0</td>\n",
       "      <td>0</td>\n",
       "      <td>0</td>\n",
       "      <td>5</td>\n",
       "      <td>2</td>\n",
       "    </tr>\n",
       "    <tr>\n",
       "      <th>9</th>\n",
       "      <td>https://www.vinted.fr/femmes/baskets-baskets/3...</td>\n",
       "      <td>Adidas</td>\n",
       "      <td>38</td>\n",
       "      <td>neuf avec etiquette</td>\n",
       "      <td>[gris, blanc]</td>\n",
       "      <td>23</td>\n",
       "      <td>4</td>\n",
       "      <td>2020-01-16 09:06:00</td>\n",
       "      <td>2020-01-16 15:02:00</td>\n",
       "      <td>60.0</td>\n",
       "      <td>...</td>\n",
       "      <td>0</td>\n",
       "      <td>0</td>\n",
       "      <td>0</td>\n",
       "      <td>0</td>\n",
       "      <td>0</td>\n",
       "      <td>0</td>\n",
       "      <td>0</td>\n",
       "      <td>0</td>\n",
       "      <td>5</td>\n",
       "      <td>4</td>\n",
       "    </tr>\n",
       "    <tr>\n",
       "      <th>12</th>\n",
       "      <td>https://www.vinted.fr/femmes/baskets-baskets/3...</td>\n",
       "      <td>Adidas</td>\n",
       "      <td>38</td>\n",
       "      <td>neuf avec etiquette</td>\n",
       "      <td>[rose, blanc]</td>\n",
       "      <td>10</td>\n",
       "      <td>1</td>\n",
       "      <td>2020-01-16 12:55:00</td>\n",
       "      <td>2020-01-16 16:20:00</td>\n",
       "      <td>60.0</td>\n",
       "      <td>...</td>\n",
       "      <td>0</td>\n",
       "      <td>0</td>\n",
       "      <td>0</td>\n",
       "      <td>0</td>\n",
       "      <td>0</td>\n",
       "      <td>0</td>\n",
       "      <td>0</td>\n",
       "      <td>0</td>\n",
       "      <td>5</td>\n",
       "      <td>4</td>\n",
       "    </tr>\n",
       "  </tbody>\n",
       "</table>\n",
       "<p>5 rows × 41 columns</p>\n",
       "</div>"
      ],
      "text/plain": [
       "                                                  Url   Brand  \\\n",
       "0   https://www.vinted.fr/femmes/baskets-baskets/3...  Adidas   \n",
       "4   https://www.vinted.fr/femmes/baskets-baskets/3...  Adidas   \n",
       "8   https://www.vinted.fr/femmes/baskets-baskets/3...  Adidas   \n",
       "9   https://www.vinted.fr/femmes/baskets-baskets/3...  Adidas   \n",
       "12  https://www.vinted.fr/femmes/baskets-baskets/3...  Adidas   \n",
       "\n",
       "                                       Size            Condition  \\\n",
       "0                   38                       neuf avec etiquette   \n",
       "4                   38                       neuf avec etiquette   \n",
       "8                   38                       neuf avec etiquette   \n",
       "9                   38                       neuf avec etiquette   \n",
       "12                  38                       neuf avec etiquette   \n",
       "\n",
       "               Colors  Views  Interested            Uploaded  \\\n",
       "0       [noir, blanc]     42           0 2020-01-16 15:49:00   \n",
       "4       [rose, blanc]    607          15 2020-10-01 11:28:00   \n",
       "8   [blanc, bordeaux]    382           6 2020-01-15 12:39:00   \n",
       "9       [gris, blanc]     23           4 2020-01-16 09:06:00   \n",
       "12      [rose, blanc]     10           1 2020-01-16 12:55:00   \n",
       "\n",
       "             Last_seen  Price  ...  color_creme  color_jaune color_bleu_clair  \\\n",
       "0  2020-01-16 15:44:00  179.0  ...            0            0                0   \n",
       "4  2020-01-16 16:27:00   48.0  ...            0            0                0   \n",
       "8  2020-01-16 16:39:00   75.0  ...            0            0                0   \n",
       "9  2020-01-16 15:02:00   60.0  ...            0            0                0   \n",
       "12 2020-01-16 16:20:00   60.0  ...            0            0                0   \n",
       "\n",
       "   color_bleu  color_multicolore  color_vert_fonce  color_marron  color_vert  \\\n",
       "0           0                  0                 0             0           0   \n",
       "4           0                  0                 0             0           0   \n",
       "8           0                  0                 0             0           0   \n",
       "9           0                  0                 0             0           0   \n",
       "12          0                  0                 0             0           0   \n",
       "\n",
       "    Condition_cat  score  \n",
       "0               5      1  \n",
       "4               5      5  \n",
       "8               5      2  \n",
       "9               5      4  \n",
       "12              5      4  \n",
       "\n",
       "[5 rows x 41 columns]"
      ]
     },
     "execution_count": 90,
     "metadata": {},
     "output_type": "execute_result"
    }
   ],
   "source": [
    "data_filter.head()"
   ]
  },
  {
   "cell_type": "markdown",
   "metadata": {},
   "source": [
    "# 2. Last seen\n",
    "- to avoid a cancellation of the sell because the seller did not send the product, we select the products that are sold by a seller that did connect on Vinted during the past month"
   ]
  },
  {
   "cell_type": "code",
   "execution_count": 29,
   "metadata": {},
   "outputs": [],
   "source": [
    "#data_filter.Last_seen = pd.to_datetime(data_filter.Last_seen)"
   ]
  },
  {
   "cell_type": "code",
   "execution_count": 30,
   "metadata": {},
   "outputs": [],
   "source": [
    "from datetime import datetime, timedelta\n",
    "data_filter=data_filter[data_filter.Last_seen > (datetime.now() - timedelta(weeks=4))]"
   ]
  },
  {
   "cell_type": "code",
   "execution_count": 31,
   "metadata": {},
   "outputs": [
    {
     "data": {
      "text/plain": [
       "(443, 41)"
      ]
     },
     "execution_count": 31,
     "metadata": {},
     "output_type": "execute_result"
    }
   ],
   "source": [
    "data_filter.shape"
   ]
  },
  {
   "cell_type": "markdown",
   "metadata": {},
   "source": [
    "# 3. Nb pictures\n",
    "- the more pictures the seller posts, the less it is probable that he sells knowingly a counterfeat product\n",
    "- we only select products with 4 pictures or more (with 4 pictures the probability of showing the brand logo on the soles of the shoes and the QR code in the shoe tongue should be high, allowing to verify if the product is counterfeat)"
   ]
  },
  {
   "cell_type": "code",
   "execution_count": 32,
   "metadata": {},
   "outputs": [],
   "source": [
    "data_filter=data_filter[data_filter.Nb_pictures>=4]"
   ]
  },
  {
   "cell_type": "code",
   "execution_count": 33,
   "metadata": {},
   "outputs": [
    {
     "data": {
      "text/plain": [
       "(242, 41)"
      ]
     },
     "execution_count": 33,
     "metadata": {},
     "output_type": "execute_result"
    }
   ],
   "source": [
    "data_filter.shape"
   ]
  },
  {
   "cell_type": "markdown",
   "metadata": {},
   "source": [
    "# 4. Stars\n",
    "- we want the seller to have a 5 stars evaluation (ensuring no or very few bad evaluation, as this score is an average rounded to the closest 0.5 point)"
   ]
  },
  {
   "cell_type": "code",
   "execution_count": 34,
   "metadata": {},
   "outputs": [],
   "source": [
    "data_filter=data_filter[data_filter.Stars==5]"
   ]
  },
  {
   "cell_type": "code",
   "execution_count": 35,
   "metadata": {},
   "outputs": [
    {
     "data": {
      "text/plain": [
       "(161, 41)"
      ]
     },
     "execution_count": 35,
     "metadata": {},
     "output_type": "execute_result"
    }
   ],
   "source": [
    "data_filter.shape"
   ]
  },
  {
   "cell_type": "markdown",
   "metadata": {},
   "source": [
    "# 5. Nb Evaluations\n",
    "- to avoid fake accounts, we select only sellers with at least 10 evaluations"
   ]
  },
  {
   "cell_type": "code",
   "execution_count": 36,
   "metadata": {},
   "outputs": [],
   "source": [
    "data_filter=data_filter[data_filter.Nb_evals>=10]"
   ]
  },
  {
   "cell_type": "code",
   "execution_count": 37,
   "metadata": {},
   "outputs": [
    {
     "data": {
      "text/plain": [
       "(126, 41)"
      ]
     },
     "execution_count": 37,
     "metadata": {},
     "output_type": "execute_result"
    }
   ],
   "source": [
    "data_filter.shape"
   ]
  },
  {
   "cell_type": "markdown",
   "metadata": {},
   "source": [
    "# Selection of the 'best deals'\n",
    "- selecting the products with the best score (lowest price in its condition)"
   ]
  },
  {
   "cell_type": "code",
   "execution_count": 38,
   "metadata": {},
   "outputs": [],
   "source": [
    "data_filter=data_filter[data_filter.score==5]"
   ]
  },
  {
   "cell_type": "code",
   "execution_count": 39,
   "metadata": {},
   "outputs": [
    {
     "data": {
      "text/plain": [
       "(36, 41)"
      ]
     },
     "execution_count": 39,
     "metadata": {},
     "output_type": "execute_result"
    }
   ],
   "source": [
    "data_filter.shape"
   ]
  },
  {
   "cell_type": "code",
   "execution_count": 60,
   "metadata": {},
   "outputs": [
    {
     "data": {
      "text/html": [
       "<div>\n",
       "<style scoped>\n",
       "    .dataframe tbody tr th:only-of-type {\n",
       "        vertical-align: middle;\n",
       "    }\n",
       "\n",
       "    .dataframe tbody tr th {\n",
       "        vertical-align: top;\n",
       "    }\n",
       "\n",
       "    .dataframe thead th {\n",
       "        text-align: right;\n",
       "    }\n",
       "</style>\n",
       "<table border=\"1\" class=\"dataframe\">\n",
       "  <thead>\n",
       "    <tr style=\"text-align: right;\">\n",
       "      <th></th>\n",
       "      <th>Url</th>\n",
       "      <th>Condition_cat</th>\n",
       "      <th>Price</th>\n",
       "      <th>Nb_evals</th>\n",
       "      <th>Nb_pictures</th>\n",
       "      <th>score</th>\n",
       "    </tr>\n",
       "  </thead>\n",
       "  <tbody>\n",
       "    <tr>\n",
       "      <th>3</th>\n",
       "      <td>https://www.vinted.fr/femmes/baskets-baskets/3...</td>\n",
       "      <td>4</td>\n",
       "      <td>50.0</td>\n",
       "      <td>114</td>\n",
       "      <td>4</td>\n",
       "      <td>5</td>\n",
       "    </tr>\n",
       "    <tr>\n",
       "      <th>4</th>\n",
       "      <td>https://www.vinted.fr/femmes/baskets-baskets/3...</td>\n",
       "      <td>5</td>\n",
       "      <td>48.0</td>\n",
       "      <td>21</td>\n",
       "      <td>5</td>\n",
       "      <td>5</td>\n",
       "    </tr>\n",
       "    <tr>\n",
       "      <th>14</th>\n",
       "      <td>https://www.vinted.fr/femmes/baskets-baskets/3...</td>\n",
       "      <td>4</td>\n",
       "      <td>45.0</td>\n",
       "      <td>21</td>\n",
       "      <td>5</td>\n",
       "      <td>5</td>\n",
       "    </tr>\n",
       "    <tr>\n",
       "      <th>20</th>\n",
       "      <td>https://www.vinted.fr/femmes/baskets-baskets/3...</td>\n",
       "      <td>3</td>\n",
       "      <td>24.0</td>\n",
       "      <td>387</td>\n",
       "      <td>4</td>\n",
       "      <td>5</td>\n",
       "    </tr>\n",
       "    <tr>\n",
       "      <th>54</th>\n",
       "      <td>https://www.vinted.fr/femmes/baskets-baskets/3...</td>\n",
       "      <td>3</td>\n",
       "      <td>20.0</td>\n",
       "      <td>119</td>\n",
       "      <td>4</td>\n",
       "      <td>5</td>\n",
       "    </tr>\n",
       "    <tr>\n",
       "      <th>90</th>\n",
       "      <td>https://www.vinted.fr/femmes/autres-sport/3870...</td>\n",
       "      <td>3</td>\n",
       "      <td>30.0</td>\n",
       "      <td>766</td>\n",
       "      <td>5</td>\n",
       "      <td>5</td>\n",
       "    </tr>\n",
       "    <tr>\n",
       "      <th>129</th>\n",
       "      <td>https://www.vinted.fr/femmes/baskets-baskets/3...</td>\n",
       "      <td>4</td>\n",
       "      <td>50.0</td>\n",
       "      <td>113</td>\n",
       "      <td>5</td>\n",
       "      <td>5</td>\n",
       "    </tr>\n",
       "    <tr>\n",
       "      <th>130</th>\n",
       "      <td>https://www.vinted.fr/femmes/baskets-baskets/3...</td>\n",
       "      <td>5</td>\n",
       "      <td>58.0</td>\n",
       "      <td>61</td>\n",
       "      <td>5</td>\n",
       "      <td>5</td>\n",
       "    </tr>\n",
       "    <tr>\n",
       "      <th>133</th>\n",
       "      <td>https://www.vinted.fr/femmes/baskets-baskets/3...</td>\n",
       "      <td>3</td>\n",
       "      <td>20.0</td>\n",
       "      <td>1425</td>\n",
       "      <td>5</td>\n",
       "      <td>5</td>\n",
       "    </tr>\n",
       "    <tr>\n",
       "      <th>138</th>\n",
       "      <td>https://www.vinted.fr/femmes/baskets-baskets/3...</td>\n",
       "      <td>5</td>\n",
       "      <td>59.9</td>\n",
       "      <td>749</td>\n",
       "      <td>5</td>\n",
       "      <td>5</td>\n",
       "    </tr>\n",
       "    <tr>\n",
       "      <th>140</th>\n",
       "      <td>https://www.vinted.fr/femmes/chuck-taylor-conv...</td>\n",
       "      <td>5</td>\n",
       "      <td>55.0</td>\n",
       "      <td>503</td>\n",
       "      <td>5</td>\n",
       "      <td>5</td>\n",
       "    </tr>\n",
       "    <tr>\n",
       "      <th>163</th>\n",
       "      <td>https://www.vinted.fr/femmes/baskets-baskets/3...</td>\n",
       "      <td>3</td>\n",
       "      <td>30.0</td>\n",
       "      <td>270</td>\n",
       "      <td>5</td>\n",
       "      <td>5</td>\n",
       "    </tr>\n",
       "    <tr>\n",
       "      <th>171</th>\n",
       "      <td>https://www.vinted.fr/femmes/baskets-baskets/3...</td>\n",
       "      <td>5</td>\n",
       "      <td>57.9</td>\n",
       "      <td>749</td>\n",
       "      <td>5</td>\n",
       "      <td>5</td>\n",
       "    </tr>\n",
       "    <tr>\n",
       "      <th>179</th>\n",
       "      <td>https://www.vinted.fr/femmes/baskets-baskets/3...</td>\n",
       "      <td>3</td>\n",
       "      <td>30.0</td>\n",
       "      <td>187</td>\n",
       "      <td>5</td>\n",
       "      <td>5</td>\n",
       "    </tr>\n",
       "    <tr>\n",
       "      <th>189</th>\n",
       "      <td>https://www.vinted.fr/femmes/baskets-baskets/3...</td>\n",
       "      <td>5</td>\n",
       "      <td>59.9</td>\n",
       "      <td>725</td>\n",
       "      <td>5</td>\n",
       "      <td>5</td>\n",
       "    </tr>\n",
       "    <tr>\n",
       "      <th>190</th>\n",
       "      <td>https://www.vinted.fr/femmes/baskets-baskets/3...</td>\n",
       "      <td>3</td>\n",
       "      <td>20.0</td>\n",
       "      <td>108</td>\n",
       "      <td>5</td>\n",
       "      <td>5</td>\n",
       "    </tr>\n",
       "    <tr>\n",
       "      <th>230</th>\n",
       "      <td>https://www.vinted.fr/femmes/baskets-baskets/3...</td>\n",
       "      <td>3</td>\n",
       "      <td>25.0</td>\n",
       "      <td>87</td>\n",
       "      <td>5</td>\n",
       "      <td>5</td>\n",
       "    </tr>\n",
       "    <tr>\n",
       "      <th>259</th>\n",
       "      <td>https://www.vinted.fr/femmes/baskets-baskets/3...</td>\n",
       "      <td>3</td>\n",
       "      <td>30.0</td>\n",
       "      <td>52</td>\n",
       "      <td>4</td>\n",
       "      <td>5</td>\n",
       "    </tr>\n",
       "    <tr>\n",
       "      <th>266</th>\n",
       "      <td>https://www.vinted.fr/femmes/baskets-baskets/3...</td>\n",
       "      <td>3</td>\n",
       "      <td>30.0</td>\n",
       "      <td>123</td>\n",
       "      <td>5</td>\n",
       "      <td>5</td>\n",
       "    </tr>\n",
       "    <tr>\n",
       "      <th>267</th>\n",
       "      <td>https://www.vinted.fr/femmes/baskets-baskets/3...</td>\n",
       "      <td>3</td>\n",
       "      <td>30.0</td>\n",
       "      <td>24</td>\n",
       "      <td>4</td>\n",
       "      <td>5</td>\n",
       "    </tr>\n",
       "    <tr>\n",
       "      <th>321</th>\n",
       "      <td>https://www.vinted.fr/femmes/baskets-baskets/3...</td>\n",
       "      <td>3</td>\n",
       "      <td>30.0</td>\n",
       "      <td>50</td>\n",
       "      <td>5</td>\n",
       "      <td>5</td>\n",
       "    </tr>\n",
       "    <tr>\n",
       "      <th>323</th>\n",
       "      <td>https://www.vinted.fr/femmes/baskets-baskets/3...</td>\n",
       "      <td>3</td>\n",
       "      <td>20.0</td>\n",
       "      <td>475</td>\n",
       "      <td>5</td>\n",
       "      <td>5</td>\n",
       "    </tr>\n",
       "    <tr>\n",
       "      <th>329</th>\n",
       "      <td>https://www.vinted.fr/femmes/baskets-baskets/3...</td>\n",
       "      <td>3</td>\n",
       "      <td>25.0</td>\n",
       "      <td>19</td>\n",
       "      <td>4</td>\n",
       "      <td>5</td>\n",
       "    </tr>\n",
       "    <tr>\n",
       "      <th>369</th>\n",
       "      <td>https://www.vinted.fr/femmes/baskets-baskets/2...</td>\n",
       "      <td>3</td>\n",
       "      <td>30.0</td>\n",
       "      <td>227</td>\n",
       "      <td>4</td>\n",
       "      <td>5</td>\n",
       "    </tr>\n",
       "    <tr>\n",
       "      <th>372</th>\n",
       "      <td>https://www.vinted.fr/femmes/baskets-baskets/2...</td>\n",
       "      <td>3</td>\n",
       "      <td>20.0</td>\n",
       "      <td>143</td>\n",
       "      <td>5</td>\n",
       "      <td>5</td>\n",
       "    </tr>\n",
       "    <tr>\n",
       "      <th>375</th>\n",
       "      <td>https://www.vinted.fr/femmes/baskets-baskets/2...</td>\n",
       "      <td>3</td>\n",
       "      <td>23.0</td>\n",
       "      <td>35</td>\n",
       "      <td>5</td>\n",
       "      <td>5</td>\n",
       "    </tr>\n",
       "    <tr>\n",
       "      <th>377</th>\n",
       "      <td>https://www.vinted.fr/femmes/baskets-baskets/2...</td>\n",
       "      <td>3</td>\n",
       "      <td>23.0</td>\n",
       "      <td>16</td>\n",
       "      <td>5</td>\n",
       "      <td>5</td>\n",
       "    </tr>\n",
       "    <tr>\n",
       "      <th>389</th>\n",
       "      <td>https://www.vinted.fr/femmes/baskets-baskets/2...</td>\n",
       "      <td>3</td>\n",
       "      <td>25.0</td>\n",
       "      <td>139</td>\n",
       "      <td>4</td>\n",
       "      <td>5</td>\n",
       "    </tr>\n",
       "    <tr>\n",
       "      <th>396</th>\n",
       "      <td>https://www.vinted.fr/femmes/baskets-baskets/2...</td>\n",
       "      <td>3</td>\n",
       "      <td>24.0</td>\n",
       "      <td>287</td>\n",
       "      <td>4</td>\n",
       "      <td>5</td>\n",
       "    </tr>\n",
       "    <tr>\n",
       "      <th>404</th>\n",
       "      <td>https://www.vinted.fr/femmes/baskets-baskets/2...</td>\n",
       "      <td>3</td>\n",
       "      <td>30.0</td>\n",
       "      <td>113</td>\n",
       "      <td>4</td>\n",
       "      <td>5</td>\n",
       "    </tr>\n",
       "    <tr>\n",
       "      <th>406</th>\n",
       "      <td>https://www.vinted.fr/femmes/baskets-baskets/2...</td>\n",
       "      <td>3</td>\n",
       "      <td>25.0</td>\n",
       "      <td>22</td>\n",
       "      <td>4</td>\n",
       "      <td>5</td>\n",
       "    </tr>\n",
       "    <tr>\n",
       "      <th>415</th>\n",
       "      <td>https://www.vinted.fr/femmes/baskets-baskets/2...</td>\n",
       "      <td>3</td>\n",
       "      <td>30.0</td>\n",
       "      <td>43</td>\n",
       "      <td>4</td>\n",
       "      <td>5</td>\n",
       "    </tr>\n",
       "    <tr>\n",
       "      <th>445</th>\n",
       "      <td>https://www.vinted.fr/femmes/autres-sport/2236...</td>\n",
       "      <td>5</td>\n",
       "      <td>49.0</td>\n",
       "      <td>206</td>\n",
       "      <td>5</td>\n",
       "      <td>5</td>\n",
       "    </tr>\n",
       "    <tr>\n",
       "      <th>451</th>\n",
       "      <td>https://www.vinted.fr/femmes/baskets-baskets/2...</td>\n",
       "      <td>3</td>\n",
       "      <td>25.0</td>\n",
       "      <td>58</td>\n",
       "      <td>4</td>\n",
       "      <td>5</td>\n",
       "    </tr>\n",
       "    <tr>\n",
       "      <th>484</th>\n",
       "      <td>https://www.vinted.fr/femmes/baskets-baskets/1...</td>\n",
       "      <td>3</td>\n",
       "      <td>30.0</td>\n",
       "      <td>11</td>\n",
       "      <td>4</td>\n",
       "      <td>5</td>\n",
       "    </tr>\n",
       "    <tr>\n",
       "      <th>491</th>\n",
       "      <td>https://www.vinted.fr/femmes/baskets-baskets/1...</td>\n",
       "      <td>3</td>\n",
       "      <td>28.0</td>\n",
       "      <td>33</td>\n",
       "      <td>5</td>\n",
       "      <td>5</td>\n",
       "    </tr>\n",
       "  </tbody>\n",
       "</table>\n",
       "</div>"
      ],
      "text/plain": [
       "                                                   Url  Condition_cat  Price  \\\n",
       "3    https://www.vinted.fr/femmes/baskets-baskets/3...              4   50.0   \n",
       "4    https://www.vinted.fr/femmes/baskets-baskets/3...              5   48.0   \n",
       "14   https://www.vinted.fr/femmes/baskets-baskets/3...              4   45.0   \n",
       "20   https://www.vinted.fr/femmes/baskets-baskets/3...              3   24.0   \n",
       "54   https://www.vinted.fr/femmes/baskets-baskets/3...              3   20.0   \n",
       "90   https://www.vinted.fr/femmes/autres-sport/3870...              3   30.0   \n",
       "129  https://www.vinted.fr/femmes/baskets-baskets/3...              4   50.0   \n",
       "130  https://www.vinted.fr/femmes/baskets-baskets/3...              5   58.0   \n",
       "133  https://www.vinted.fr/femmes/baskets-baskets/3...              3   20.0   \n",
       "138  https://www.vinted.fr/femmes/baskets-baskets/3...              5   59.9   \n",
       "140  https://www.vinted.fr/femmes/chuck-taylor-conv...              5   55.0   \n",
       "163  https://www.vinted.fr/femmes/baskets-baskets/3...              3   30.0   \n",
       "171  https://www.vinted.fr/femmes/baskets-baskets/3...              5   57.9   \n",
       "179  https://www.vinted.fr/femmes/baskets-baskets/3...              3   30.0   \n",
       "189  https://www.vinted.fr/femmes/baskets-baskets/3...              5   59.9   \n",
       "190  https://www.vinted.fr/femmes/baskets-baskets/3...              3   20.0   \n",
       "230  https://www.vinted.fr/femmes/baskets-baskets/3...              3   25.0   \n",
       "259  https://www.vinted.fr/femmes/baskets-baskets/3...              3   30.0   \n",
       "266  https://www.vinted.fr/femmes/baskets-baskets/3...              3   30.0   \n",
       "267  https://www.vinted.fr/femmes/baskets-baskets/3...              3   30.0   \n",
       "321  https://www.vinted.fr/femmes/baskets-baskets/3...              3   30.0   \n",
       "323  https://www.vinted.fr/femmes/baskets-baskets/3...              3   20.0   \n",
       "329  https://www.vinted.fr/femmes/baskets-baskets/3...              3   25.0   \n",
       "369  https://www.vinted.fr/femmes/baskets-baskets/2...              3   30.0   \n",
       "372  https://www.vinted.fr/femmes/baskets-baskets/2...              3   20.0   \n",
       "375  https://www.vinted.fr/femmes/baskets-baskets/2...              3   23.0   \n",
       "377  https://www.vinted.fr/femmes/baskets-baskets/2...              3   23.0   \n",
       "389  https://www.vinted.fr/femmes/baskets-baskets/2...              3   25.0   \n",
       "396  https://www.vinted.fr/femmes/baskets-baskets/2...              3   24.0   \n",
       "404  https://www.vinted.fr/femmes/baskets-baskets/2...              3   30.0   \n",
       "406  https://www.vinted.fr/femmes/baskets-baskets/2...              3   25.0   \n",
       "415  https://www.vinted.fr/femmes/baskets-baskets/2...              3   30.0   \n",
       "445  https://www.vinted.fr/femmes/autres-sport/2236...              5   49.0   \n",
       "451  https://www.vinted.fr/femmes/baskets-baskets/2...              3   25.0   \n",
       "484  https://www.vinted.fr/femmes/baskets-baskets/1...              3   30.0   \n",
       "491  https://www.vinted.fr/femmes/baskets-baskets/1...              3   28.0   \n",
       "\n",
       "     Nb_evals  Nb_pictures score  \n",
       "3         114            4     5  \n",
       "4          21            5     5  \n",
       "14         21            5     5  \n",
       "20        387            4     5  \n",
       "54        119            4     5  \n",
       "90        766            5     5  \n",
       "129       113            5     5  \n",
       "130        61            5     5  \n",
       "133      1425            5     5  \n",
       "138       749            5     5  \n",
       "140       503            5     5  \n",
       "163       270            5     5  \n",
       "171       749            5     5  \n",
       "179       187            5     5  \n",
       "189       725            5     5  \n",
       "190       108            5     5  \n",
       "230        87            5     5  \n",
       "259        52            4     5  \n",
       "266       123            5     5  \n",
       "267        24            4     5  \n",
       "321        50            5     5  \n",
       "323       475            5     5  \n",
       "329        19            4     5  \n",
       "369       227            4     5  \n",
       "372       143            5     5  \n",
       "375        35            5     5  \n",
       "377        16            5     5  \n",
       "389       139            4     5  \n",
       "396       287            4     5  \n",
       "404       113            4     5  \n",
       "406        22            4     5  \n",
       "415        43            4     5  \n",
       "445       206            5     5  \n",
       "451        58            4     5  \n",
       "484        11            4     5  \n",
       "491        33            5     5  "
      ]
     },
     "execution_count": 60,
     "metadata": {},
     "output_type": "execute_result"
    }
   ],
   "source": [
    "data_filter[['Url','Condition_cat', 'Price', 'Nb_evals', 'Nb_pictures', 'score']]"
   ]
  },
  {
   "cell_type": "code",
   "execution_count": 61,
   "metadata": {},
   "outputs": [
    {
     "data": {
      "text/html": [
       "<div>\n",
       "<style scoped>\n",
       "    .dataframe tbody tr th:only-of-type {\n",
       "        vertical-align: middle;\n",
       "    }\n",
       "\n",
       "    .dataframe tbody tr th {\n",
       "        vertical-align: top;\n",
       "    }\n",
       "\n",
       "    .dataframe thead th {\n",
       "        text-align: right;\n",
       "    }\n",
       "</style>\n",
       "<table border=\"1\" class=\"dataframe\">\n",
       "  <thead>\n",
       "    <tr style=\"text-align: right;\">\n",
       "      <th></th>\n",
       "      <th>Url</th>\n",
       "      <th>Condition_cat</th>\n",
       "      <th>Price</th>\n",
       "      <th>Nb_evals</th>\n",
       "      <th>Nb_pictures</th>\n",
       "      <th>score</th>\n",
       "    </tr>\n",
       "  </thead>\n",
       "  <tbody>\n",
       "    <tr>\n",
       "      <th>4</th>\n",
       "      <td>https://www.vinted.fr/femmes/baskets-baskets/3...</td>\n",
       "      <td>5</td>\n",
       "      <td>48.0</td>\n",
       "      <td>21</td>\n",
       "      <td>5</td>\n",
       "      <td>5</td>\n",
       "    </tr>\n",
       "    <tr>\n",
       "      <th>445</th>\n",
       "      <td>https://www.vinted.fr/femmes/autres-sport/2236...</td>\n",
       "      <td>5</td>\n",
       "      <td>49.0</td>\n",
       "      <td>206</td>\n",
       "      <td>5</td>\n",
       "      <td>5</td>\n",
       "    </tr>\n",
       "    <tr>\n",
       "      <th>140</th>\n",
       "      <td>https://www.vinted.fr/femmes/chuck-taylor-conv...</td>\n",
       "      <td>5</td>\n",
       "      <td>55.0</td>\n",
       "      <td>503</td>\n",
       "      <td>5</td>\n",
       "      <td>5</td>\n",
       "    </tr>\n",
       "    <tr>\n",
       "      <th>171</th>\n",
       "      <td>https://www.vinted.fr/femmes/baskets-baskets/3...</td>\n",
       "      <td>5</td>\n",
       "      <td>57.9</td>\n",
       "      <td>749</td>\n",
       "      <td>5</td>\n",
       "      <td>5</td>\n",
       "    </tr>\n",
       "    <tr>\n",
       "      <th>130</th>\n",
       "      <td>https://www.vinted.fr/femmes/baskets-baskets/3...</td>\n",
       "      <td>5</td>\n",
       "      <td>58.0</td>\n",
       "      <td>61</td>\n",
       "      <td>5</td>\n",
       "      <td>5</td>\n",
       "    </tr>\n",
       "    <tr>\n",
       "      <th>138</th>\n",
       "      <td>https://www.vinted.fr/femmes/baskets-baskets/3...</td>\n",
       "      <td>5</td>\n",
       "      <td>59.9</td>\n",
       "      <td>749</td>\n",
       "      <td>5</td>\n",
       "      <td>5</td>\n",
       "    </tr>\n",
       "    <tr>\n",
       "      <th>189</th>\n",
       "      <td>https://www.vinted.fr/femmes/baskets-baskets/3...</td>\n",
       "      <td>5</td>\n",
       "      <td>59.9</td>\n",
       "      <td>725</td>\n",
       "      <td>5</td>\n",
       "      <td>5</td>\n",
       "    </tr>\n",
       "    <tr>\n",
       "      <th>14</th>\n",
       "      <td>https://www.vinted.fr/femmes/baskets-baskets/3...</td>\n",
       "      <td>4</td>\n",
       "      <td>45.0</td>\n",
       "      <td>21</td>\n",
       "      <td>5</td>\n",
       "      <td>5</td>\n",
       "    </tr>\n",
       "    <tr>\n",
       "      <th>3</th>\n",
       "      <td>https://www.vinted.fr/femmes/baskets-baskets/3...</td>\n",
       "      <td>4</td>\n",
       "      <td>50.0</td>\n",
       "      <td>114</td>\n",
       "      <td>4</td>\n",
       "      <td>5</td>\n",
       "    </tr>\n",
       "    <tr>\n",
       "      <th>129</th>\n",
       "      <td>https://www.vinted.fr/femmes/baskets-baskets/3...</td>\n",
       "      <td>4</td>\n",
       "      <td>50.0</td>\n",
       "      <td>113</td>\n",
       "      <td>5</td>\n",
       "      <td>5</td>\n",
       "    </tr>\n",
       "  </tbody>\n",
       "</table>\n",
       "</div>"
      ],
      "text/plain": [
       "                                                   Url  Condition_cat  Price  \\\n",
       "4    https://www.vinted.fr/femmes/baskets-baskets/3...              5   48.0   \n",
       "445  https://www.vinted.fr/femmes/autres-sport/2236...              5   49.0   \n",
       "140  https://www.vinted.fr/femmes/chuck-taylor-conv...              5   55.0   \n",
       "171  https://www.vinted.fr/femmes/baskets-baskets/3...              5   57.9   \n",
       "130  https://www.vinted.fr/femmes/baskets-baskets/3...              5   58.0   \n",
       "138  https://www.vinted.fr/femmes/baskets-baskets/3...              5   59.9   \n",
       "189  https://www.vinted.fr/femmes/baskets-baskets/3...              5   59.9   \n",
       "14   https://www.vinted.fr/femmes/baskets-baskets/3...              4   45.0   \n",
       "3    https://www.vinted.fr/femmes/baskets-baskets/3...              4   50.0   \n",
       "129  https://www.vinted.fr/femmes/baskets-baskets/3...              4   50.0   \n",
       "\n",
       "     Nb_evals  Nb_pictures score  \n",
       "4          21            5     5  \n",
       "445       206            5     5  \n",
       "140       503            5     5  \n",
       "171       749            5     5  \n",
       "130        61            5     5  \n",
       "138       749            5     5  \n",
       "189       725            5     5  \n",
       "14         21            5     5  \n",
       "3         114            4     5  \n",
       "129       113            5     5  "
      ]
     },
     "execution_count": 61,
     "metadata": {},
     "output_type": "execute_result"
    }
   ],
   "source": [
    "data_filter[['Url','Condition_cat', 'Price', 'Nb_evals', 'Nb_pictures', 'score']].sort_values(by=['Condition_cat','Price'], axis=0, ascending=[False,True]).head(10)"
   ]
  }
 ],
 "metadata": {
  "kernelspec": {
   "display_name": "Python 3",
   "language": "python",
   "name": "python3"
  },
  "language_info": {
   "codemirror_mode": {
    "name": "ipython",
    "version": 3
   },
   "file_extension": ".py",
   "mimetype": "text/x-python",
   "name": "python",
   "nbconvert_exporter": "python",
   "pygments_lexer": "ipython3",
   "version": "3.7.3"
  }
 },
 "nbformat": 4,
 "nbformat_minor": 2
}
